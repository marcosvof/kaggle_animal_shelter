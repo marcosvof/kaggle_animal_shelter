{
 "cells": [
  {
   "cell_type": "code",
   "execution_count": 1005,
   "metadata": {
    "ExecuteTime": {
     "end_time": "2016-06-29T15:00:14.172000",
     "start_time": "2016-06-29T15:00:13.482000"
    },
    "collapsed": true
   },
   "outputs": [],
   "source": [
    "import pandas as pd\n",
    "import numpy as np\n",
    "from sklearn import cross_validation\n",
    "from sklearn.ensemble import GradientBoostingClassifier, RandomForestClassifier\n",
    "from sklearn.preprocessing import LabelEncoder\n",
    "import xgboost as xgb\n",
    "from sklearn.cross_validation import train_test_split\n",
    "from sklearn.metrics import log_loss"
   ]
  },
  {
   "cell_type": "code",
   "execution_count": 1006,
   "metadata": {
    "collapsed": true
   },
   "outputs": [],
   "source": [
    "def generateBreedFeatures(data):\n",
    "    l1=['American Hairless Terrier','American Leopard Hound','Appenzeller Sennenhunde','Azawakh','Barbet',\n",
    "        'Basset Fauve de Bretagne','Belgian Laekenois','Biewer Terrier','Bolognese','Bracco Italiano',\n",
    "        'Braque du Bourbonnais','Broholmer','Catahoula Leopard Dog','Caucasian Ovcharka','Central Asian Shepherd Dog',\n",
    "        'Czechoslovakian Vlcak','Danish-Swedish Farmdog','Deutscher Wachtelhund','Dogo Argentino',\n",
    "        'Drentsche Patrijshond','Drever','Dutch Shepherd','Estrela Mountain Dog','Eurasier','French Spaniel',\n",
    "        'German Longhaired Pointer','German Spitz','Grand Basset Griffon Vendeen','Hamiltonstovare','Hovawart',\n",
    "        'Jagdterrier','Jindo','Kai Ken','Karelian Bear Dog','Kishu Ken','Kromfohrlander','Lancashire Heeler',\n",
    "        'Mudi','Nederlandse Kooikerhondje','Norrbottenspets','Perro de Presa Canario','Peruvian Inca Orchid',\n",
    "        'Portuguese Podengo','Portuguese Pointer','Portuguese Sheepdog','Pumi','Pyrenean Mastiff',\n",
    "        'Rafeiro do Alentejo','Russian Toy','Russian Tsvetnaya Bolonka','Schapendoes','Shikoku',\n",
    "        'Slovensky Cuvac','Slovensky Kopov','Sloughi','Small Munsterlander Pointer','Spanish Mastiff',\n",
    "        'Stabyhoun','Swedish Lapphund','Thai Ridgeback','Tornjak','Tosa','Transylvanian Hound',\n",
    "        'Treeing Tennessee Brindle','Working Kelpie','Australian Cattle Dog','Australian Shepherd',\n",
    "        'Bearded Collie','Beauceron','Belgian Malinois','Belgian Sheepdog','Belgian Tervuren','Bergamasco',\n",
    "        'Berger Picard','Border Collie','Bouvier des Flandres','Briard','Canaan Dog','Cardigan Welsh Corgi',\n",
    "        'Collie','Entlebucher Mountain Dog','Finnish Lapphund','German Shepherd Dog','Icelandic Sheepdog',\n",
    "        'Miniature American Shepherd','Norwegian Buhund','Old English Sheepdog','Pembroke Welsh Corgi',\n",
    "        'Polish Lowland Sheepdog','Puli','Pyrenean Shepherd','Shetland Sheepdog','Spanish Water Dog',\n",
    "        'Swedish Vallhund','Afghan Hound','American English Coonhound','American Foxhound','Basenji',\n",
    "        'Basset Hound','Beagle','Black and Tan Coonhound','Bloodhound','Bluetick Coonhound','Borzoi',\n",
    "        'Cirneco de l etna','Dachshund','English Foxhound','Greyhound','Harrier','Ibizan Hound','Irish Wolfhound',\n",
    "        'Norwegian Elkhound','Otterhound','Petit Basset Griffon Vendeen','Pharaoh Hound','Plott',\n",
    "        'Portuguese Podengo Pequeno','Redbone Coonhound','Rhodesian Ridgeback','Saluki','Scottish Deerhound',\n",
    "        'Treeing Walker Coonhound','Whippet','American Eskimo Dog','Bichon Frise','Boston Terrier','Bulldog',\n",
    "        'Chinese Shar-Pei','Chow Chow','Coton de Tulear','Dalmatian','Finnish Spitz','French Bulldog','Keeshond',\n",
    "        'Lhasa Apso','Lowchen','Norwegian Lundehund','Poodle','Schipperke','Shiba Inu','Tibetan Spaniel',\n",
    "        'Tibetan Terrier','Xoloitzcuintli','American Water Spaniel','Boykin Spaniel','Brittany',\n",
    "        'Chesapeake Bay Retriever','Clumber Spaniel','Cocker Spaniel','Curly-Coated Retriever',\n",
    "        'English Cocker Spaniel','English Setter','English Springer Spaniel','Field Spaniel',\n",
    "        'Flat-Coated Retriever','German Shorthaired Pointer','German Wirehaired Pointer','Golden Retriever',\n",
    "        'Gordon Setter','Irish Red and White Setter','Irish Setter','Irish Water Spaniel','Labrador Retriever',\n",
    "        'Lagotto Romagnolo','Nova Scotia Duck Tolling Retriever','Pointer','Spinone Italiano','Sussex Spaniel',\n",
    "        'Vizsla','Weimaraner','Welsh Springer Spaniel','Wirehaired Pointing Griffon','Wirehaired Vizsla',\n",
    "        'Airedale Terrier','American Staffordshire Terrier','Australian Terrier','Bedlington Terrier',\n",
    "        'Border Terrier','Bull Terrier','Cairn Terrier','Cesky Terrier','Dandie Dinmont Terrier',\n",
    "        'Glen of Imaal Terrier','Irish Terrier','Kerry Blue Terrier','Lakeland Terrier','Manchester Terrier',\n",
    "        'Miniature Bull Terrier','Miniature Schnauzer','Norfolk Terrier','Norwich Terrier','Parson Russell Terrier',\n",
    "        'Rat Terrier','Russell Terrier','Scottish Terrier','Sealyham Terrier','Skye Terrier','Smooth Fox Terrier',\n",
    "        'Soft Coated Wheaten Terrier','Staffordshire Bull Terrier','Welsh Terrier','West Highland White Terrier',\n",
    "        'Wire Fox Terrier','Affenpinscher','Brussels Griffon','Cavalier King Charles Spaniel','Chihuahua',\n",
    "        'Chinese Crested','English Toy Spaniel','Havanese','Italian Greyhound','Japanese Chin','Maltese',\n",
    "        'Miniature Pinscher','Papillon','Pekingese','Pomeranian','Pug','Shih Tzu','Silky Terrier','Toy Fox Terrier',\n",
    "        'Yorkshire Terrier','Akita','Alaskan Malamute','Anatolian Shepherd Dog','Bernese Mountain Dog',\n",
    "        'Black Russian Terrier','Boerboel','Boxer','Bullmastiff','Cane Corso','Chinook','Doberman Pinscher',\n",
    "        'Dogue de Bordeaux','German Pinscher','Giant Schnauzer','Great Dane','Great Pyrenees',\n",
    "        'Greater Swiss Mountain Dog','Komondor','Kuvasz','Leonberger','Mastiff','Neapolitan Mastiff','Newfoundland',\n",
    "        'Portuguese Water Dog','Rottweiler','Samoyed','Siberian Husky','Standard Schnauzer','Tibetan Mastiff',\n",
    "        'St. Bernard']\n",
    "    l2=['FSS','FSS','FSS','FSS','FSS','FSS','FSS','FSS','FSS','FSS','FSS','FSS','FSS','FSS','FSS','FSS','FSS','FSS',\n",
    "        'FSS','FSS','FSS','FSS','FSS','FSS','FSS','FSS','FSS','FSS','FSS','FSS','FSS','FSS','FSS','FSS','FSS','FSS',\n",
    "        'FSS','FSS','FSS','FSS','FSS','FSS','FSS','FSS','FSS','FSS','FSS','FSS','FSS','FSS','FSS','FSS','FSS','FSS',\n",
    "        'FSS','FSS','FSS','FSS','FSS','FSS','FSS','FSS','FSS','FSS','FSS','Herding','Herding','Herding','Herding',\n",
    "        'Herding','Herding','Herding','Herding','Herding','Herding','Herding','Herding','Herding','Herding','Herding',\n",
    "        'Herding','Herding','Herding','Herding','Herding','Herding','Herding','Herding','Herding','Herding','Herding',\n",
    "        'Herding','Herding','Herding','Hound','Hound','Hound','Hound','Hound','Hound','Hound','Hound','Hound','Hound',\n",
    "        'Hound','Hound','Hound','Hound','Hound','Hound','Hound','Hound','Hound','Hound','Hound','Hound','Hound',\n",
    "        'Hound','Hound','Hound','Hound','Hound','Hound','Non_sporting','Non_sporting','Non_sporting','Non_sporting',\n",
    "        'Non_sporting','Non_sporting','Non_sporting','Non_sporting','Non_sporting','Non_sporting','Non_sporting',\n",
    "        'Non_sporting','Non_sporting','Non_sporting','Non_sporting','Non_sporting','Non_sporting','Non_sporting',\n",
    "        'Non_sporting','Non_sporting','Sporting','Sporting','Sporting','Sporting','Sporting','Sporting','Sporting',\n",
    "        'Sporting','Sporting','Sporting','Sporting','Sporting','Sporting','Sporting','Sporting','Sporting','Sporting',\n",
    "        'Sporting','Sporting','Sporting','Sporting','Sporting','Sporting','Sporting','Sporting','Sporting','Sporting',\n",
    "        'Sporting','Sporting','Sporting','Terrier','Terrier','Terrier','Terrier','Terrier','Terrier','Terrier',\n",
    "        'Terrier','Terrier','Terrier','Terrier','Terrier','Terrier','Terrier','Terrier','Terrier','Terrier','Terrier',\n",
    "        'Terrier','Terrier','Terrier','Terrier','Terrier','Terrier','Terrier','Terrier','Terrier','Terrier','Terrier',\n",
    "        'Terrier','Toy','Toy','Toy','Toy','Toy','Toy','Toy','Toy','Toy','Toy','Toy','Toy','Toy','Toy','Toy','Toy',\n",
    "        'Toy','Toy','Toy','Working','Working','Working','Working','Working','Working','Working','Working','Working',\n",
    "        'Working','Working','Working','Working','Working','Working','Working','Working','Working','Working','Working',\n",
    "        'Working','Working','Working','Working','Working','Working','Working','Working','Working','Working']\n",
    "    \n",
    "    l3=pd.DataFrame(l1)\n",
    "    l3['breed1']=pd.DataFrame(l1)\n",
    "    l3['group']=pd.DataFrame(l2)\n",
    "    l3.drop(0,axis=1,inplace=True)\n",
    "    l3['breed1']=l3['breed1'].str.upper()\n",
    "    \n",
    "    data=pd.merge(data, l3, on = 'breed1',how='left')\n",
    "    \n",
    "    l1=['Akita','Alaskan Malamute','Anatolian Shepherd Dog','Argentine Dogo','Beauceron','Bernese Mountain Dog',\n",
    "        'Black Russian Terrier','Bloodhound','Borzoi','Bouvier des Flandres','Briard','Bullmastiff','Cane Corso',\n",
    "        'Caucasian Ovcharka','Central Asian Shepherd Dog','Curly-Coated Retriever','Doberman Pinsch','Greyhound',\n",
    "        'Otterhounds','Spinone Italiano','Afghan Hound','Airedale Terrier','American Foxhound',\n",
    "        'American Staffordshire Terrier','Appenzeller Sennenhunde','Belgian Sheepdog','Belgian Tervuren',\n",
    "        'Bergamasco','Black and Tan Coonhound','Bluetick Coonhound','Boxer','Bracco Italiano','Catahoula Leopard',\n",
    "        'Chesapeake Bay Retriever','Chinook','Clumber Spaniel','English Setter','Flat Coat Retriever',\n",
    "        'German Shorthaired Pointer','German Wirehaired Pointer','Golden Retrievers','Gordon Setters',\n",
    "        'Irish Red and White Setters','Irish Setters','Labrador Retriever','The Standard Poodle','Redbone Coonhound',\n",
    "        'Thai Ridgeback','Weimaraner','American English Coonhound','Australian Shepherd','Azawakh','Basset Hound',\n",
    "        'Bearded Collie','Belgian Laekenois','Belgian Malinois','Bull Terrier','Bulldog','Chinese Sharpei',\n",
    "        'Chow Chow','Collie','Dalmatian','English Springer Spaniel','Entlebucher Mountain Dog','Field Spaniel',\n",
    "        'Finnish Lapphund','Grand Basset Griffon Vendéen','Harrier','Ibizan Hounds','Irish Water Spaniels',\n",
    "        'Keeshond','Norwegian Elkhound','Nova Scotia Duck Tolling Retriever','The Pharaoh Hound','The Plott',\n",
    "        'The Pointer','Portuguese Podengo','The Saluki','Samoyed','Siberian Husky','Sloughis','Stabyhouns',\n",
    "        'Sussex Spaniel','Treeing Walker Coonhound','Vizslas','Wirehaired Pointing Griffon','Basenji','Beagle',\n",
    "        'Cardigan Welsh Corgi','Cocker Spaniel','Dandie Dinmont Terrier','English Cocker Spaniel','Finnish Spitz',\n",
    "        'German Pinscher','Kai Kens','Kerry Blue Terriers','Miniature Bull Terrier','Norwegian Buhunds',\n",
    "        'Pembroke Welsh Corgi','Petit Bassett Griffon Vendeen','Polish Lowland Sheepdog','Portuguese Podengo (Medio)',\n",
    "        'Portuguese Water Dog','Pyrenean Shepherd','Sealyham Terrier','Shetland Sheepdog','Skye Terrier',\n",
    "        'Soft Coated Wheaten Terrier','Spanish Water Dogs','Staffordshire Bull Terrier','Standard Schnauzer',\n",
    "        'Tibetan Terrier','Treeing Tennessee Brindle','Welsh Springer Spaniel','West Highland White Terrier',\n",
    "        'Whippet','Wire Fox Terrier','Affenpinscher','American Eskimo','Miniature American Eskimo',\n",
    "        'Toy American Eskimo','Australian Terrier','Bichon Frise','Bolognese','Border Terrier','Boston Terrier',\n",
    "        'Brussels Griffon','Cairn Terrier','Cavalier King Charles Spaniel','Cesky Terrier','Chihuahua',\n",
    "        'Chinese Crested','Coton de Tulear','Dachshund','English Toy Spaniel','French Bulldog','Havanese',\n",
    "        'Italian Greyhound','Japanese Chin','Lancashire Heeler','Lhasa Apso','Lowchen','Maltese','Manchester Terrier',\n",
    "        'Standard Manchester Terrier','Toy Manchester Terrier','Miniature Pinscher','Miniature Schnauzer',\n",
    "        'Norfolk Terrier','Norwich Terrier','Papillon','Parson Russell Terrier','Pekingese','Pomeranian','Poodle',\n",
    "        'Miniature Poodle','Toy Poodle','Portuguese Podengo (Pequeno)','Pug','Rat Terrier','Schipperke',\n",
    "        'Scottish Terrier','Shiba Inu','Shih Tzu','Silky Terrier','Smooth Fox Terrier','Tibetan Spaniel',\n",
    "        'Toy Fox Terrier','Yorkshire Terrier','Xoloitzcuintli']\n",
    "\n",
    "    l2=['Large','Large','Large','Large','Large','Large','Large','Large','Large','Large','Large','Large','Large',\n",
    "        'Large','Large','Large','Large','Large','Large','Medium Large','Medium Large','Medium Large','Medium Large',\n",
    "        'Medium Large','Medium Large','Medium Large','Medium Large','Medium Large','Medium Large','Medium Large',\n",
    "        'Medium Large','Medium Large','Medium Large','Medium Large','Medium Large','Medium Large','Medium Large',\n",
    "        'Medium Large','Medium Large','Medium Large','Medium Large','Medium Large','Medium Large','Medium Large',\n",
    "        'Medium Large','Medium Large','Medium Large','Medium Large','Medium','Medium','Medium','Medium','Medium',\n",
    "        'Medium','Medium','Medium','Medium','Medium','Medium','Medium','Medium','Medium','Medium','Medium','Medium',\n",
    "        'Medium','Medium','Medium','Medium','Medium','Medium','Medium','Medium','Medium','Medium','Medium','Medium',\n",
    "        'Medium','Medium','Medium','Medium','Medium','Medium','Medium','Medium','Small Medium','Small Medium',\n",
    "        'Small Medium','Small Medium','Small Medium','Small Medium','Small Medium','Small Medium','Small Medium',\n",
    "        'Small Medium','Small Medium','Small Medium','Small Medium','Small Medium','Small Medium','Small Medium',\n",
    "        'Small Medium','Small Medium','Small Medium','Small Medium','Small Medium','Small Medium','Small Medium',\n",
    "        'Small Medium','Small Medium','Small Medium','Small Medium','Small Medium','Small Medium','Small Medium',\n",
    "        'Small Medium','Small Medium','Small','Small','Small','Small','Small','Small','Small','Small','Small',\n",
    "        'Small','Small','Small','Small','Small','Small','Small','Small','Small','Small','Small','Small','Small',\n",
    "        'Small','Small','Small','Small','Small','Small','Small','Small','Small','Small','Small','Small','Small',\n",
    "        'Small','Small','Small','Small','Small','Small','Small','Small','Small','Small','Small','Small','Small',\n",
    "        'Small','Small','Small','Small','Small']\n",
    "    \n",
    "    l3=pd.DataFrame(l1)\n",
    "    l3['breed1']=pd.DataFrame(l1)\n",
    "    l3['size']=pd.DataFrame(l2)\n",
    "    l3.drop(0,axis=1,inplace=True)\n",
    "    l3['breed1']=l3['breed1'].str.upper()\n",
    "    \n",
    "    data=pd.merge(data, l3, on = 'breed1',how='left')\n",
    "    '''\n",
    "    #dangerous dogs\n",
    "    l1=['Dalmatian','Great Dane','Presa Canario','Doberman Pinsch','Chow Chow','Alaskan Malamute','Wolf-Dog Hybrid',\n",
    "        'German Shepherd','Rottweiler','Pit Bull']\n",
    "    l2=['Dangerous Dog','Dangerous Dog','Dangerous Dog','Dangerous Dog','Dangerous Dog','Dangerous Dog',\n",
    "        'Dangerous Dog','Dangerous Dog','Dangerous Dog','Dangerous Dog']\n",
    "    \n",
    "    l3=pd.DataFrame(l1)\n",
    "    l3['breed1']=pd.DataFrame(l1)\n",
    "    l3['dangerous']=pd.DataFrame(l2)\n",
    "    l3.drop(0,axis=1,inplace=True)\n",
    "    l3['breed1']=l3['breed1'].str.upper()\n",
    "    \n",
    "    data=pd.merge(data, l3, on = 'breed1',how='left')\n",
    "    \n",
    "    ####Smart\n",
    "    l1=['Bloodhound','Border Collie','Doberman Pinscher','German Shepherd Dog','Golden Retriever',\n",
    "        'Labrador Retriever','Papillon','Poodle','Rottweiler','Shetland Sheepdog']\n",
    "    l2=['Smart','Smart','Smart','Smart','Smart','Smart','Smart','Smart','Smart','Smart']\n",
    "    \n",
    "    l3=pd.DataFrame(l1)\n",
    "    l3['breed1']=pd.DataFrame(l1)\n",
    "    l3['smart']=pd.DataFrame(l2)\n",
    "    l3.drop(0,axis=1,inplace=True)\n",
    "    l3['breed1']=l3['breed1'].str.upper()\n",
    "    \n",
    "    data=pd.merge(data, l3, on = 'breed1',how='left')\n",
    "    \n",
    "    ####Kids\n",
    "    l1=['Beagle','Boxer','Bull Terrier','Bulldog','Golden Retriever','Labrador Retriever','Newfoundland',\n",
    "        'Soft Coated Wheaten Terrier','Weimaraner']\n",
    "    l2=['Kids','Kids','Kids','Kids','Kids','Kids','Kids','Kids','Kids']\n",
    "    \n",
    "    l3=pd.DataFrame(l1)\n",
    "    l3['breed1']=pd.DataFrame(l1)\n",
    "    l3['kids']=pd.DataFrame(l2)\n",
    "    l3.drop(0,axis=1,inplace=True)\n",
    "    l3['breed1']=l3['breed1'].str.upper()\n",
    "    \n",
    "    data=pd.merge(data, l3, on = 'breed1',how='left')\n",
    "    \n",
    "    ####Hypo\n",
    "    l1=['Afghan Hound','American Hairless Terrier','Bedlington Terrier','Bichon Frise','Chinese Crested',\n",
    "        'Coton de Tulear','Giant Schnauzer','Irish Water Spaniel','Kerry Blue Terrier','Lagotto Romagnolo',\n",
    "        'Maltese','Peruvian Inca Orchid','Poodle','Portuguese Water Dog','Soft Coated Wheaten Terrier',\n",
    "        'Standard Schnauzer','Xoloitzcuintli']\n",
    "    l2=['Hypoallergenic','Hypoallergenic','Hypoallergenic','Hypoallergenic','Hypoallergenic','Hypoallergenic',\n",
    "        'Hypoallergenic','Hypoallergenic','Hypoallergenic','Hypoallergenic','Hypoallergenic','Hypoallergenic',\n",
    "        'Hypoallergenic','Hypoallergenic','Hypoallergenic','Hypoallergenic','Hypoallergenic']\n",
    "    \n",
    "    l3=pd.DataFrame(l1)\n",
    "    l3['breed1']=pd.DataFrame(l1)\n",
    "    l3['hypo']=pd.DataFrame(l2)\n",
    "    l3.drop(0,axis=1,inplace=True)\n",
    "    l3['breed1']=l3['breed1'].str.upper()\n",
    "    \n",
    "    data=pd.merge(data, l3, on = 'breed1',how='left')\n",
    "    \n",
    "    ####Family\n",
    "    l1=['Beagle','Brussels Griffon','Bulldog','Collie','French Bulldog','Golden Retriever','Irish Setter',\n",
    "        'Labrador Retriever','Newfoundland','Pug']\n",
    "    l2=['Family','Family','Family','Family','Family','Family','Family','Family','Family','Family']\n",
    "    \n",
    "    l3=pd.DataFrame(l1)\n",
    "    l3['breed1']=pd.DataFrame(l1)\n",
    "    l3['family']=pd.DataFrame(l2)\n",
    "    l3.drop(0,axis=1,inplace=True)\n",
    "    l3['breed1']=l3['breed1'].str.upper()\n",
    "    \n",
    "    data=pd.merge(data, l3, on = 'breed1',how='left')\n",
    "    '''\n",
    "    return data"
   ]
  },
  {
   "cell_type": "code",
   "execution_count": 1007,
   "metadata": {
    "collapsed": false
   },
   "outputs": [],
   "source": [
    "def getAge(x):\n",
    "    if pd.notnull(x):\n",
    "        value = int(x.split(' ')[0])\n",
    "        if x.endswith('day') or x.endswith('days'):\n",
    "            return value\n",
    "        if x.endswith('weeks') or x.endswith('week'):\n",
    "            return value*7\n",
    "        if x.endswith('month') or x.endswith('months'):\n",
    "            return value*30\n",
    "        if x.endswith('year') or x.endswith('years'):\n",
    "            return value*365\n",
    "    return -1\n",
    "\n",
    "def cleanBreed(x):\n",
    "    x = x.replace('Mix','')\n",
    "    x = x.replace('Shorthair','')\n",
    "    x = x.replace('Medium Hair','')\n",
    "    x = x.replace('Longhair','')\n",
    "    x = x.replace('  ',' ')\n",
    "    x = x.replace('   ',' ')\n",
    "    x = x.replace('    ',' ')\n",
    "    x = x.strip()\n",
    "    \n",
    "    return x\n",
    "\n",
    "def cleanColor(x):\n",
    "    x = x.replace('Tabby','')\n",
    "    x = x.replace('  ',' ')\n",
    "    x = x.replace('   ',' ')\n",
    "    x = x.replace('    ',' ')\n",
    "    x = x.strip()\n",
    "    \n",
    "    return x\n",
    "\n",
    "def splitBreed(x, i):\n",
    "    x = x.split('/')\n",
    "    if len(x) >= (i+1):\n",
    "        return x[i]\n",
    "    return 'null'\n",
    "\n",
    "def getHairType(x):\n",
    "    if pd.notnull(x) and 'Shorthair' in x:\n",
    "        return 1\n",
    "    if pd.notnull(x) and 'Medium Hair' in x:\n",
    "        return 2\n",
    "    if pd.notnull(x) and 'Longhair' in x:\n",
    "        return 3\n",
    "    return -1\n",
    "\n",
    "def getDayPeriod(x):\n",
    "    if x.hour < 6:\n",
    "        return 0\n",
    "    if x.hour >= 6 and x.hour < 12:\n",
    "        return 1\n",
    "    if x.hour >= 12 and x.hour < 18:\n",
    "        return 2\n",
    "    if x.hour >= 18:\n",
    "        return 3\n",
    "    return -1\n",
    "\n",
    "def getSeason(x):\n",
    "    if 4<=x<=6:\n",
    "        return 1\n",
    "    if 7<=x<=9:\n",
    "        return 2\n",
    "    if 10<=x<=12:\n",
    "        return 3\n",
    "    else:\n",
    "        return 0\n",
    "    \n",
    "def getHolidays(day, month):\n",
    "    #confederate Heroes\n",
    "    if month==1 and day==19:\n",
    "        return 1\n",
    "    #Texas Independance\n",
    "    if month==3 and day==2:\n",
    "        return 2\n",
    "    #San Jacinto Day        \n",
    "    if month==4 and day==21:\n",
    "        return 3                  \n",
    "    #Mothers Day        \n",
    "    if month==5 and day==10:\n",
    "        return 4              \n",
    "    #Emancipation Day        \n",
    "    if month==6 and day==19:\n",
    "        return 5\n",
    "    #Fathers Day        \n",
    "    if month==6 and 18<=day<=22:\n",
    "        return 6\n",
    "    #Lyndon day       \n",
    "    if month==8 and day==27:\n",
    "        return 7\n",
    "    #Veterans day       \n",
    "    if month==11 and day==11:\n",
    "        return 8\n",
    "    #ThanksGiving                    \n",
    "    if month==11 and 25<=day<=27:\n",
    "        return 9\n",
    "    #Christmas                    \n",
    "    if month==12 and 23<=day<=27:\n",
    "        return 10\n",
    "    return 0"
   ]
  },
  {
   "cell_type": "code",
   "execution_count": 1008,
   "metadata": {
    "collapsed": false
   },
   "outputs": [],
   "source": [
    "def generate_features(data, train = False):\n",
    "    if train:\n",
    "        data.drop('OutcomeSubtype', axis=1, inplace=True)\n",
    "        \n",
    "    ###### RETIRANDO O OUTCOMESUBTYPE O NAME DO TREINO E TESTE ######\n",
    "    data['has_name'] = data['Name'].apply(lambda x :  pd.notnull(x) )\n",
    "    data.drop(['Name'], axis=1, inplace=True)\n",
    "    \n",
    "    #Date\n",
    "    data['DateTime'] = data['DateTime'].apply(lambda x : pd.tslib.Timestamp(x, tz=None))\n",
    "    data['day'] = data['DateTime'].apply(lambda x : x.day)\n",
    "    data['month'] = data['DateTime'].apply(lambda x : x.month)\n",
    "    data['year'] = data['DateTime'].apply(lambda x : x.year)\n",
    "    data['hour'] = data['DateTime'].apply(lambda x : x.hour)\n",
    "    data['minute'] = data['DateTime'].apply(lambda x : x.minute)\n",
    "    data['day_of_week'] = data['DateTime'].apply(lambda x : x.weekday())\n",
    "    data['weekday'] = data['DateTime'].apply(lambda x : x.weekday() < 5)\n",
    "    data['working_hour'] = data['DateTime'].apply(lambda x : x.hour >= 8 and x.hour <= 18)\n",
    "    data['madrugada'] = data['DateTime'].apply(lambda x : x.hour < 6)\n",
    "    data['manha'] = data['DateTime'].apply(lambda x : x.hour >= 6 and x.hour < 12)\n",
    "    data['tarde'] = data['DateTime'].apply(lambda x : x.hour >= 12 and x.hour < 18)\n",
    "    data['noite'] = data['DateTime'].apply(lambda x : x.hour >= 18)\n",
    "    #data['quarter'] = data['DateTime'].apply(lambda x : x.quarter)#<<<\n",
    "    #data['weekofyear'] = data['DateTime'].apply(lambda x : x.weekofyear)#<<<\n",
    "    #data['season'] = data['month'].apply(lambda x : getSeason(x))#<<<\n",
    "    #data['holiday'] = data['DateTime'].apply(lambda x : getHolidays(x.day, x.month))#<<<\n",
    "    '''\n",
    "    data['day_period'] = data['DateTime'].apply(lambda x : getDayPeriod(x))\n",
    "    '''\n",
    "    data.drop(['DateTime'], axis=1, inplace=True)\n",
    "    \n",
    "    #Age\n",
    "    data['age'] = data['AgeuponOutcome'].apply(lambda x : getAge(x))\n",
    "    data['puppy'] = data['age'].apply(lambda x : x <= 365)\n",
    "    data['adolescence'] = data['age'].apply(lambda x : x > 365 and x <= 730)\n",
    "    data['adulthood'] = data['age'].apply(lambda x : x > 730 and x <= 2920)\n",
    "    data['senior'] = data['age'].apply(lambda x : x > 2920)\n",
    "    data.drop(['AgeuponOutcome'], axis=1, inplace=True)\n",
    "    \n",
    "    #Sex\n",
    "    data['male'] = data['SexuponOutcome'].apply(lambda x : pd.notnull(x) and x.endswith('Male'))\n",
    "    data['female'] = data['SexuponOutcome'].apply(lambda x : pd.notnull(x) and x.endswith('Female'))\n",
    "    data['castrated'] = data['SexuponOutcome'].apply(lambda x : pd.notnull(x) and (x.startswith('Spayed') \n",
    "                                                                                   or x.startswith('Neutered')))\n",
    "    data.drop(['SexuponOutcome'], axis=1, inplace=True)\n",
    "    '''\n",
    "    data['sex'] = data['SexuponOutcome'].apply(lambda x : 1 if pd.notnull(x) and x.endswith('Male') else 0)\n",
    "    data['intact'] = data['SexuponOutcome'].apply(lambda x : pd.notnull(x) and x.startswith('Intact'))\n",
    "    data['spayed'] = data['SexuponOutcome'].apply(lambda x : pd.notnull(x) and x.startswith('Spayed'))\n",
    "    data['neutered'] = data['SexuponOutcome'].apply(lambda x : pd.notnull(x) and x.startswith('Neutered'))\n",
    "    data.drop(['SexuponOutcome'], axis=1, inplace=True)\n",
    "    '''\n",
    "    \n",
    "    #Breed\n",
    "    \n",
    "    data['mix'] = data['Breed'].apply(lambda x : pd.notnull(x) and x.endswith('Mix'))\n",
    "    data['shorthair'] = data['Breed'].apply(lambda x : pd.notnull(x) and 'Shorthair' in x)\n",
    "    data['mediumhair'] = data['Breed'].apply(lambda x : pd.notnull(x) and 'Medium Hair' in x)\n",
    "    data['longhair'] = data['Breed'].apply(lambda x : pd.notnull(x) and 'Longhair' in x)\n",
    "    '''\n",
    "    data['mix'] = data['Breed'].apply(lambda x : pd.notnull(x) and x.endswith('Mix'))\n",
    "    data['hair'] = data['Breed'].apply(lambda x : getHairType(x))\n",
    "    '''\n",
    "    data['Breed'] = data['Breed'].apply(lambda x : cleanBreed(x))\n",
    "    data['breed1'] = data['Breed'].apply(lambda x : splitBreed(x, 0).upper())\n",
    "    data['breed2'] = data['Breed'].apply(lambda x : splitBreed(x, 1).upper())\n",
    "    data.drop(['Breed'], axis=1, inplace=True)\n",
    "    \n",
    "    #Color\n",
    "    data['tabby'] = data['Color'].apply(lambda x : pd.notnull(x) and 'Tabby' in x)\n",
    "    data['Color'] = data['Color'].apply(lambda x : cleanColor(x))\n",
    "    data['color1'] = data['Color'].apply(lambda x : splitBreed(x, 0))\n",
    "    data['color2'] = data['Color'].apply(lambda x : splitBreed(x, 1))\n",
    "    #data['unicolor'] = data['color2'].apply(lambda x : x == 'null')#<<<\n",
    "    \n",
    "    \n",
    "    data.drop(['Color'], axis=1, inplace=True)"
   ]
  },
  {
   "cell_type": "markdown",
   "metadata": {},
   "source": [
    "Lendo os arquivos do treino e test. <br />\n",
    "Biblioteca utilizada: <br />\n",
    "Pandas: http://pandas.pydata.org/<br />\n",
    "Função utilizada: http://pandas.pydata.org/pandas-docs/stable/generated/pandas.read_csv.html"
   ]
  },
  {
   "cell_type": "code",
   "execution_count": 1009,
   "metadata": {
    "ExecuteTime": {
     "end_time": "2016-06-29T15:00:14.242000",
     "start_time": "2016-06-29T15:00:14.174000"
    },
    "collapsed": false
   },
   "outputs": [],
   "source": [
    "train = pd.read_csv('input/train.csv', index_col='AnimalID')\n",
    "test = pd.read_csv('input/test.csv', index_col='ID')"
   ]
  },
  {
   "cell_type": "code",
   "execution_count": 1010,
   "metadata": {
    "collapsed": false
   },
   "outputs": [],
   "source": [
    "def getValueFrequency(group, counts, outcomeType, date):\n",
    "    try:\n",
    "        g = group.xs((outcomeType, date), level=('OutcomeType', 'Date'))['DateTime']\n",
    "    except:\n",
    "        return 0\n",
    "    if g.values.size > 0:\n",
    "        val = g.values[0]\n",
    "        return val/(counts[date] * 1.0)\n",
    "    return 0\n",
    "\n",
    "def setDate(x):\n",
    "    x = x.date().replace(day=1)\n",
    "    return x\n",
    "\n",
    "def generateFrequencyFeatures(data, test):\n",
    "    data['DateTime'] = data['DateTime'].apply(lambda x : pd.tslib.Timestamp(x, tz=None))\n",
    "    data['Date'] = data['DateTime'].apply(lambda x : setDate(x))\n",
    "    \n",
    "    test['DateTime'] = test['DateTime'].apply(lambda x : pd.tslib.Timestamp(x, tz=None))\n",
    "    test['Date'] = test['DateTime'].apply(lambda x : setDate(x))\n",
    "    \n",
    "    counts = data['Date'].value_counts()\n",
    "    data['outcomes'] = data['Date'].apply(lambda x : counts[x]/(len(data) * 1.0))\n",
    "    test['outcomes'] = test['Date'].apply(lambda x : counts[x]/(len(test) * 1.0))\n",
    "    \n",
    "    group = data.groupby(['Date', 'OutcomeType']).count()\n",
    "    data['Transfer'] = data['Date'].apply(lambda x,g=group,c=counts : getValueFrequency(g, c, 'Transfer', x))\n",
    "    test['Transfer'] = test['Date'].apply(lambda x,g=group,c=counts : getValueFrequency(g, c, 'Transfer', x))\n",
    "    data['Return_to_owner'] = data['Date'].apply(lambda x,g=group,c=counts : getValueFrequency(g, c, 'Return_to_owner', x))\n",
    "    test['Return_to_owner'] = test['Date'].apply(lambda x,g=group,c=counts : getValueFrequency(g, c, 'Return_to_owner', x))\n",
    "    data['Euthanasia'] = data['Date'].apply(lambda x,g=group,c=counts : getValueFrequency(g, c, 'Euthanasia', x))\n",
    "    test['Euthanasia'] = test['Date'].apply(lambda x,g=group,c=counts : getValueFrequency(g, c, 'Euthanasia', x))\n",
    "    data['Adoption'] = data['Date'].apply(lambda x,g=group,c=counts : getValueFrequency(g, c, 'Adoption', x))\n",
    "    test['Adoption'] = test['Date'].apply(lambda x,g=group,c=counts : getValueFrequency(g, c, 'Adoption', x))\n",
    "    data['Died'] = data['Date'].apply(lambda x,g=group,c=counts : getValueFrequency(g, c, 'Died', x))\n",
    "    test['Died'] = test['Date'].apply(lambda x,g=group,c=counts : getValueFrequency(g, c, 'Died', x))\n",
    "    \n",
    "    #data['outcomes'] = data['Date'].apply(lambda x : data[data['Date'] == x].size)\n",
    "    #data.drop(['Date'], axis=1, inplace=True)\n",
    "    #test.drop(['Date'], axis=1, inplace=True)"
   ]
  },
  {
   "cell_type": "code",
   "execution_count": 1011,
   "metadata": {
    "collapsed": true
   },
   "outputs": [],
   "source": [
    "def getValueFrequency2(group, counts, outcomeType, breed):\n",
    "    g = group.xs((outcomeType, breed), level=('OutcomeType', 'breed1'))['Date']\n",
    "    if g.values.size > 0:\n",
    "        val = g.values[0]\n",
    "        return val/(counts[breed] * 1.0)\n",
    "    return 0\n",
    "\n",
    "\n",
    "\n",
    "def generateFrequencyFeatures2(data, test):\n",
    "\n",
    "    counts = data['breed1'].value_counts()\n",
    "    \n",
    "    group = data.groupby(['breed1', 'OutcomeType']).count()\n",
    "    \n",
    "    data['Transfer_breed'] = data['breed1'].apply(lambda x,g=group,c=counts : getValueFrequency2(g, c, 'Transfer', x))\n",
    "    test['Transfer_breed'] = test['breed1'].apply(lambda x,g=group,c=counts : getValueFrequency2(g, c, 'Transfer', x))\n",
    "    data['Return_to_owner_breed'] = data['breed1'].apply(lambda x,g=group,c=counts : getValueFrequency2(g, c, 'Return_to_owner', x))\n",
    "    test['Return_to_owner_breed'] = test['breed1'].apply(lambda x,g=group,c=counts : getValueFrequency2(g, c, 'Return_to_owner', x))\n",
    "    data['Euthanasia_breed'] = data['breed1'].apply(lambda x,g=group,c=counts : getValueFrequency2(g, c, 'Euthanasia', x))\n",
    "    test['Euthanasia_breed'] = test['breed1'].apply(lambda x,g=group,c=counts : getValueFrequency2(g, c, 'Euthanasia', x))\n",
    "    data['Adoption_breed'] = data['breed1'].apply(lambda x,g=group,c=counts : getValueFrequency2(g, c, 'Adoption', x))\n",
    "    test['Adoption_breed'] = test['breed1'].apply(lambda x,g=group,c=counts : getValueFrequency2(g, c, 'Adoption', x))\n",
    "    data['Died_breed'] = data['breed1'].apply(lambda x,g=group,c=counts : getValueFrequency2(g, c, 'Died', x))\n",
    "    test['Died_breed'] = test['breed1'].apply(lambda x,g=group,c=counts : getValueFrequency2(g, c, 'Died', x))\n",
    "    \n",
    "    #data['outcomes'] = data['Date'].apply(lambda x : data[data['Date'] == x].size)\n",
    "    #data.drop(['Date'], axis=1, inplace=True)\n",
    "    #test.drop(['Date'], axis=1, inplace=True)"
   ]
  },
  {
   "cell_type": "code",
   "execution_count": 1012,
   "metadata": {
    "collapsed": false
   },
   "outputs": [
    {
     "data": {
      "text/html": [
       "<div>\n",
       "<table border=\"1\" class=\"dataframe\">\n",
       "  <thead>\n",
       "    <tr style=\"text-align: right;\">\n",
       "      <th></th>\n",
       "      <th>Name</th>\n",
       "      <th>DateTime</th>\n",
       "      <th>OutcomeType</th>\n",
       "      <th>OutcomeSubtype</th>\n",
       "      <th>AnimalType</th>\n",
       "      <th>SexuponOutcome</th>\n",
       "      <th>AgeuponOutcome</th>\n",
       "      <th>Breed</th>\n",
       "      <th>Color</th>\n",
       "    </tr>\n",
       "    <tr>\n",
       "      <th>AnimalID</th>\n",
       "      <th></th>\n",
       "      <th></th>\n",
       "      <th></th>\n",
       "      <th></th>\n",
       "      <th></th>\n",
       "      <th></th>\n",
       "      <th></th>\n",
       "      <th></th>\n",
       "      <th></th>\n",
       "    </tr>\n",
       "  </thead>\n",
       "  <tbody>\n",
       "    <tr>\n",
       "      <th>A671945</th>\n",
       "      <td>Hambone</td>\n",
       "      <td>2014-02-12 18:22:00</td>\n",
       "      <td>Return_to_owner</td>\n",
       "      <td>NaN</td>\n",
       "      <td>Dog</td>\n",
       "      <td>Neutered Male</td>\n",
       "      <td>1 year</td>\n",
       "      <td>Shetland Sheepdog Mix</td>\n",
       "      <td>Brown/White</td>\n",
       "    </tr>\n",
       "    <tr>\n",
       "      <th>A656520</th>\n",
       "      <td>Emily</td>\n",
       "      <td>2013-10-13 12:44:00</td>\n",
       "      <td>Euthanasia</td>\n",
       "      <td>Suffering</td>\n",
       "      <td>Cat</td>\n",
       "      <td>Spayed Female</td>\n",
       "      <td>1 year</td>\n",
       "      <td>Domestic Shorthair Mix</td>\n",
       "      <td>Cream Tabby</td>\n",
       "    </tr>\n",
       "    <tr>\n",
       "      <th>A686464</th>\n",
       "      <td>Pearce</td>\n",
       "      <td>2015-01-31 12:28:00</td>\n",
       "      <td>Adoption</td>\n",
       "      <td>Foster</td>\n",
       "      <td>Dog</td>\n",
       "      <td>Neutered Male</td>\n",
       "      <td>2 years</td>\n",
       "      <td>Pit Bull Mix</td>\n",
       "      <td>Blue/White</td>\n",
       "    </tr>\n",
       "    <tr>\n",
       "      <th>A683430</th>\n",
       "      <td>NaN</td>\n",
       "      <td>2014-07-11 19:09:00</td>\n",
       "      <td>Transfer</td>\n",
       "      <td>Partner</td>\n",
       "      <td>Cat</td>\n",
       "      <td>Intact Male</td>\n",
       "      <td>3 weeks</td>\n",
       "      <td>Domestic Shorthair Mix</td>\n",
       "      <td>Blue Cream</td>\n",
       "    </tr>\n",
       "    <tr>\n",
       "      <th>A667013</th>\n",
       "      <td>NaN</td>\n",
       "      <td>2013-11-15 12:52:00</td>\n",
       "      <td>Transfer</td>\n",
       "      <td>Partner</td>\n",
       "      <td>Dog</td>\n",
       "      <td>Neutered Male</td>\n",
       "      <td>2 years</td>\n",
       "      <td>Lhasa Apso/Miniature Poodle</td>\n",
       "      <td>Tan</td>\n",
       "    </tr>\n",
       "  </tbody>\n",
       "</table>\n",
       "</div>"
      ],
      "text/plain": [
       "             Name             DateTime      OutcomeType OutcomeSubtype  \\\n",
       "AnimalID                                                                 \n",
       "A671945   Hambone  2014-02-12 18:22:00  Return_to_owner            NaN   \n",
       "A656520     Emily  2013-10-13 12:44:00       Euthanasia      Suffering   \n",
       "A686464    Pearce  2015-01-31 12:28:00         Adoption         Foster   \n",
       "A683430       NaN  2014-07-11 19:09:00         Transfer        Partner   \n",
       "A667013       NaN  2013-11-15 12:52:00         Transfer        Partner   \n",
       "\n",
       "         AnimalType SexuponOutcome AgeuponOutcome  \\\n",
       "AnimalID                                            \n",
       "A671945         Dog  Neutered Male         1 year   \n",
       "A656520         Cat  Spayed Female         1 year   \n",
       "A686464         Dog  Neutered Male        2 years   \n",
       "A683430         Cat    Intact Male        3 weeks   \n",
       "A667013         Dog  Neutered Male        2 years   \n",
       "\n",
       "                                Breed        Color  \n",
       "AnimalID                                            \n",
       "A671945         Shetland Sheepdog Mix  Brown/White  \n",
       "A656520        Domestic Shorthair Mix  Cream Tabby  \n",
       "A686464                  Pit Bull Mix   Blue/White  \n",
       "A683430        Domestic Shorthair Mix   Blue Cream  \n",
       "A667013   Lhasa Apso/Miniature Poodle          Tan  "
      ]
     },
     "execution_count": 1012,
     "metadata": {},
     "output_type": "execute_result"
    }
   ],
   "source": [
    "train.head()"
   ]
  },
  {
   "cell_type": "markdown",
   "metadata": {},
   "source": [
    "Removendo a coluna **OutcomeSubtype**, porque ela não existe no test. <br />\n",
    "http://pandas.pydata.org/pandas-docs/stable/generated/pandas.DataFrame.drop.html"
   ]
  },
  {
   "cell_type": "code",
   "execution_count": 1013,
   "metadata": {
    "ExecuteTime": {
     "end_time": "2016-06-29T15:00:14.331000",
     "start_time": "2016-06-29T15:00:14.323000"
    },
    "collapsed": false
   },
   "outputs": [
    {
     "ename": "KeyError",
     "evalue": "'SCOTTISH FOLD'",
     "output_type": "error",
     "traceback": [
      "\u001b[0;31m---------------------------------------------------------------------------\u001b[0m",
      "\u001b[0;31mKeyError\u001b[0m                                  Traceback (most recent call last)",
      "\u001b[0;32m<ipython-input-1013-2170e064644c>\u001b[0m in \u001b[0;36m<module>\u001b[0;34m()\u001b[0m\n\u001b[1;32m      2\u001b[0m \u001b[0mgenerate_features\u001b[0m\u001b[0;34m(\u001b[0m\u001b[0mtrain\u001b[0m\u001b[0;34m,\u001b[0m \u001b[0mTrue\u001b[0m\u001b[0;34m)\u001b[0m\u001b[0;34m\u001b[0m\u001b[0m\n\u001b[1;32m      3\u001b[0m \u001b[0mgenerate_features\u001b[0m\u001b[0;34m(\u001b[0m\u001b[0mtest\u001b[0m\u001b[0;34m)\u001b[0m\u001b[0;34m\u001b[0m\u001b[0m\n\u001b[0;32m----> 4\u001b[0;31m \u001b[0mgenerateFrequencyFeatures2\u001b[0m\u001b[0;34m(\u001b[0m\u001b[0mtrain\u001b[0m\u001b[0;34m,\u001b[0m\u001b[0mtest\u001b[0m\u001b[0;34m)\u001b[0m\u001b[0;34m\u001b[0m\u001b[0m\n\u001b[0m\u001b[1;32m      5\u001b[0m '''\n\u001b[1;32m      6\u001b[0m \u001b[0mtrain\u001b[0m \u001b[0;34m=\u001b[0m \u001b[0mgenerateBreedFeatures\u001b[0m\u001b[0;34m(\u001b[0m\u001b[0mtrain\u001b[0m\u001b[0;34m)\u001b[0m\u001b[0;34m\u001b[0m\u001b[0m\n",
      "\u001b[0;32m<ipython-input-1011-160707fa3116>\u001b[0m in \u001b[0;36mgenerateFrequencyFeatures2\u001b[0;34m(data, test)\u001b[0m\n\u001b[1;32m     15\u001b[0m \u001b[0;34m\u001b[0m\u001b[0m\n\u001b[1;32m     16\u001b[0m     \u001b[0mdata\u001b[0m\u001b[0;34m[\u001b[0m\u001b[0;34m'Transfer_breed'\u001b[0m\u001b[0;34m]\u001b[0m \u001b[0;34m=\u001b[0m \u001b[0mdata\u001b[0m\u001b[0;34m[\u001b[0m\u001b[0;34m'breed1'\u001b[0m\u001b[0;34m]\u001b[0m\u001b[0;34m.\u001b[0m\u001b[0mapply\u001b[0m\u001b[0;34m(\u001b[0m\u001b[0;32mlambda\u001b[0m \u001b[0mx\u001b[0m\u001b[0;34m,\u001b[0m\u001b[0mg\u001b[0m\u001b[0;34m=\u001b[0m\u001b[0mgroup\u001b[0m\u001b[0;34m,\u001b[0m\u001b[0mc\u001b[0m\u001b[0;34m=\u001b[0m\u001b[0mcounts\u001b[0m \u001b[0;34m:\u001b[0m \u001b[0mgetValueFrequency2\u001b[0m\u001b[0;34m(\u001b[0m\u001b[0mg\u001b[0m\u001b[0;34m,\u001b[0m \u001b[0mc\u001b[0m\u001b[0;34m,\u001b[0m \u001b[0;34m'Transfer'\u001b[0m\u001b[0;34m,\u001b[0m \u001b[0mx\u001b[0m\u001b[0;34m)\u001b[0m\u001b[0;34m)\u001b[0m\u001b[0;34m\u001b[0m\u001b[0m\n\u001b[0;32m---> 17\u001b[0;31m     \u001b[0mtest\u001b[0m\u001b[0;34m[\u001b[0m\u001b[0;34m'Transfer_breed'\u001b[0m\u001b[0;34m]\u001b[0m \u001b[0;34m=\u001b[0m \u001b[0mtest\u001b[0m\u001b[0;34m[\u001b[0m\u001b[0;34m'breed1'\u001b[0m\u001b[0;34m]\u001b[0m\u001b[0;34m.\u001b[0m\u001b[0mapply\u001b[0m\u001b[0;34m(\u001b[0m\u001b[0;32mlambda\u001b[0m \u001b[0mx\u001b[0m\u001b[0;34m,\u001b[0m\u001b[0mg\u001b[0m\u001b[0;34m=\u001b[0m\u001b[0mgroup\u001b[0m\u001b[0;34m,\u001b[0m\u001b[0mc\u001b[0m\u001b[0;34m=\u001b[0m\u001b[0mcounts\u001b[0m \u001b[0;34m:\u001b[0m \u001b[0mgetValueFrequency2\u001b[0m\u001b[0;34m(\u001b[0m\u001b[0mg\u001b[0m\u001b[0;34m,\u001b[0m \u001b[0mc\u001b[0m\u001b[0;34m,\u001b[0m \u001b[0;34m'Transfer'\u001b[0m\u001b[0;34m,\u001b[0m \u001b[0mx\u001b[0m\u001b[0;34m)\u001b[0m\u001b[0;34m)\u001b[0m\u001b[0;34m\u001b[0m\u001b[0m\n\u001b[0m\u001b[1;32m     18\u001b[0m     \u001b[0mdata\u001b[0m\u001b[0;34m[\u001b[0m\u001b[0;34m'Return_to_owner_breed'\u001b[0m\u001b[0;34m]\u001b[0m \u001b[0;34m=\u001b[0m \u001b[0mdata\u001b[0m\u001b[0;34m[\u001b[0m\u001b[0;34m'breed1'\u001b[0m\u001b[0;34m]\u001b[0m\u001b[0;34m.\u001b[0m\u001b[0mapply\u001b[0m\u001b[0;34m(\u001b[0m\u001b[0;32mlambda\u001b[0m \u001b[0mx\u001b[0m\u001b[0;34m,\u001b[0m\u001b[0mg\u001b[0m\u001b[0;34m=\u001b[0m\u001b[0mgroup\u001b[0m\u001b[0;34m,\u001b[0m\u001b[0mc\u001b[0m\u001b[0;34m=\u001b[0m\u001b[0mcounts\u001b[0m \u001b[0;34m:\u001b[0m \u001b[0mgetValueFrequency2\u001b[0m\u001b[0;34m(\u001b[0m\u001b[0mg\u001b[0m\u001b[0;34m,\u001b[0m \u001b[0mc\u001b[0m\u001b[0;34m,\u001b[0m \u001b[0;34m'Return_to_owner'\u001b[0m\u001b[0;34m,\u001b[0m \u001b[0mx\u001b[0m\u001b[0;34m)\u001b[0m\u001b[0;34m)\u001b[0m\u001b[0;34m\u001b[0m\u001b[0m\n\u001b[1;32m     19\u001b[0m     \u001b[0mtest\u001b[0m\u001b[0;34m[\u001b[0m\u001b[0;34m'Return_to_owner_breed'\u001b[0m\u001b[0;34m]\u001b[0m \u001b[0;34m=\u001b[0m \u001b[0mtest\u001b[0m\u001b[0;34m[\u001b[0m\u001b[0;34m'breed1'\u001b[0m\u001b[0;34m]\u001b[0m\u001b[0;34m.\u001b[0m\u001b[0mapply\u001b[0m\u001b[0;34m(\u001b[0m\u001b[0;32mlambda\u001b[0m \u001b[0mx\u001b[0m\u001b[0;34m,\u001b[0m\u001b[0mg\u001b[0m\u001b[0;34m=\u001b[0m\u001b[0mgroup\u001b[0m\u001b[0;34m,\u001b[0m\u001b[0mc\u001b[0m\u001b[0;34m=\u001b[0m\u001b[0mcounts\u001b[0m \u001b[0;34m:\u001b[0m \u001b[0mgetValueFrequency2\u001b[0m\u001b[0;34m(\u001b[0m\u001b[0mg\u001b[0m\u001b[0;34m,\u001b[0m \u001b[0mc\u001b[0m\u001b[0;34m,\u001b[0m \u001b[0;34m'Return_to_owner'\u001b[0m\u001b[0;34m,\u001b[0m \u001b[0mx\u001b[0m\u001b[0;34m)\u001b[0m\u001b[0;34m)\u001b[0m\u001b[0;34m\u001b[0m\u001b[0m\n",
      "\u001b[0;32m/Users/marcos/anaconda/lib/python2.7/site-packages/pandas/core/series.pyc\u001b[0m in \u001b[0;36mapply\u001b[0;34m(self, func, convert_dtype, args, **kwds)\u001b[0m\n\u001b[1;32m   2235\u001b[0m             \u001b[0mvalues\u001b[0m \u001b[0;34m=\u001b[0m \u001b[0mlib\u001b[0m\u001b[0;34m.\u001b[0m\u001b[0mmap_infer\u001b[0m\u001b[0;34m(\u001b[0m\u001b[0mvalues\u001b[0m\u001b[0;34m,\u001b[0m \u001b[0mboxer\u001b[0m\u001b[0;34m)\u001b[0m\u001b[0;34m\u001b[0m\u001b[0m\n\u001b[1;32m   2236\u001b[0m \u001b[0;34m\u001b[0m\u001b[0m\n\u001b[0;32m-> 2237\u001b[0;31m         \u001b[0mmapped\u001b[0m \u001b[0;34m=\u001b[0m \u001b[0mlib\u001b[0m\u001b[0;34m.\u001b[0m\u001b[0mmap_infer\u001b[0m\u001b[0;34m(\u001b[0m\u001b[0mvalues\u001b[0m\u001b[0;34m,\u001b[0m \u001b[0mf\u001b[0m\u001b[0;34m,\u001b[0m \u001b[0mconvert\u001b[0m\u001b[0;34m=\u001b[0m\u001b[0mconvert_dtype\u001b[0m\u001b[0;34m)\u001b[0m\u001b[0;34m\u001b[0m\u001b[0m\n\u001b[0m\u001b[1;32m   2238\u001b[0m         \u001b[0;32mif\u001b[0m \u001b[0mlen\u001b[0m\u001b[0;34m(\u001b[0m\u001b[0mmapped\u001b[0m\u001b[0;34m)\u001b[0m \u001b[0;32mand\u001b[0m \u001b[0misinstance\u001b[0m\u001b[0;34m(\u001b[0m\u001b[0mmapped\u001b[0m\u001b[0;34m[\u001b[0m\u001b[0;36m0\u001b[0m\u001b[0;34m]\u001b[0m\u001b[0;34m,\u001b[0m \u001b[0mSeries\u001b[0m\u001b[0;34m)\u001b[0m\u001b[0;34m:\u001b[0m\u001b[0;34m\u001b[0m\u001b[0m\n\u001b[1;32m   2239\u001b[0m             \u001b[0;32mfrom\u001b[0m \u001b[0mpandas\u001b[0m\u001b[0;34m.\u001b[0m\u001b[0mcore\u001b[0m\u001b[0;34m.\u001b[0m\u001b[0mframe\u001b[0m \u001b[0;32mimport\u001b[0m \u001b[0mDataFrame\u001b[0m\u001b[0;34m\u001b[0m\u001b[0m\n",
      "\u001b[0;32mpandas/src/inference.pyx\u001b[0m in \u001b[0;36mpandas.lib.map_infer (pandas/lib.c:63043)\u001b[0;34m()\u001b[0m\n",
      "\u001b[0;32m<ipython-input-1011-160707fa3116>\u001b[0m in \u001b[0;36m<lambda>\u001b[0;34m(x, g, c)\u001b[0m\n\u001b[1;32m     15\u001b[0m \u001b[0;34m\u001b[0m\u001b[0m\n\u001b[1;32m     16\u001b[0m     \u001b[0mdata\u001b[0m\u001b[0;34m[\u001b[0m\u001b[0;34m'Transfer_breed'\u001b[0m\u001b[0;34m]\u001b[0m \u001b[0;34m=\u001b[0m \u001b[0mdata\u001b[0m\u001b[0;34m[\u001b[0m\u001b[0;34m'breed1'\u001b[0m\u001b[0;34m]\u001b[0m\u001b[0;34m.\u001b[0m\u001b[0mapply\u001b[0m\u001b[0;34m(\u001b[0m\u001b[0;32mlambda\u001b[0m \u001b[0mx\u001b[0m\u001b[0;34m,\u001b[0m\u001b[0mg\u001b[0m\u001b[0;34m=\u001b[0m\u001b[0mgroup\u001b[0m\u001b[0;34m,\u001b[0m\u001b[0mc\u001b[0m\u001b[0;34m=\u001b[0m\u001b[0mcounts\u001b[0m \u001b[0;34m:\u001b[0m \u001b[0mgetValueFrequency2\u001b[0m\u001b[0;34m(\u001b[0m\u001b[0mg\u001b[0m\u001b[0;34m,\u001b[0m \u001b[0mc\u001b[0m\u001b[0;34m,\u001b[0m \u001b[0;34m'Transfer'\u001b[0m\u001b[0;34m,\u001b[0m \u001b[0mx\u001b[0m\u001b[0;34m)\u001b[0m\u001b[0;34m)\u001b[0m\u001b[0;34m\u001b[0m\u001b[0m\n\u001b[0;32m---> 17\u001b[0;31m     \u001b[0mtest\u001b[0m\u001b[0;34m[\u001b[0m\u001b[0;34m'Transfer_breed'\u001b[0m\u001b[0;34m]\u001b[0m \u001b[0;34m=\u001b[0m \u001b[0mtest\u001b[0m\u001b[0;34m[\u001b[0m\u001b[0;34m'breed1'\u001b[0m\u001b[0;34m]\u001b[0m\u001b[0;34m.\u001b[0m\u001b[0mapply\u001b[0m\u001b[0;34m(\u001b[0m\u001b[0;32mlambda\u001b[0m \u001b[0mx\u001b[0m\u001b[0;34m,\u001b[0m\u001b[0mg\u001b[0m\u001b[0;34m=\u001b[0m\u001b[0mgroup\u001b[0m\u001b[0;34m,\u001b[0m\u001b[0mc\u001b[0m\u001b[0;34m=\u001b[0m\u001b[0mcounts\u001b[0m \u001b[0;34m:\u001b[0m \u001b[0mgetValueFrequency2\u001b[0m\u001b[0;34m(\u001b[0m\u001b[0mg\u001b[0m\u001b[0;34m,\u001b[0m \u001b[0mc\u001b[0m\u001b[0;34m,\u001b[0m \u001b[0;34m'Transfer'\u001b[0m\u001b[0;34m,\u001b[0m \u001b[0mx\u001b[0m\u001b[0;34m)\u001b[0m\u001b[0;34m)\u001b[0m\u001b[0;34m\u001b[0m\u001b[0m\n\u001b[0m\u001b[1;32m     18\u001b[0m     \u001b[0mdata\u001b[0m\u001b[0;34m[\u001b[0m\u001b[0;34m'Return_to_owner_breed'\u001b[0m\u001b[0;34m]\u001b[0m \u001b[0;34m=\u001b[0m \u001b[0mdata\u001b[0m\u001b[0;34m[\u001b[0m\u001b[0;34m'breed1'\u001b[0m\u001b[0;34m]\u001b[0m\u001b[0;34m.\u001b[0m\u001b[0mapply\u001b[0m\u001b[0;34m(\u001b[0m\u001b[0;32mlambda\u001b[0m \u001b[0mx\u001b[0m\u001b[0;34m,\u001b[0m\u001b[0mg\u001b[0m\u001b[0;34m=\u001b[0m\u001b[0mgroup\u001b[0m\u001b[0;34m,\u001b[0m\u001b[0mc\u001b[0m\u001b[0;34m=\u001b[0m\u001b[0mcounts\u001b[0m \u001b[0;34m:\u001b[0m \u001b[0mgetValueFrequency2\u001b[0m\u001b[0;34m(\u001b[0m\u001b[0mg\u001b[0m\u001b[0;34m,\u001b[0m \u001b[0mc\u001b[0m\u001b[0;34m,\u001b[0m \u001b[0;34m'Return_to_owner'\u001b[0m\u001b[0;34m,\u001b[0m \u001b[0mx\u001b[0m\u001b[0;34m)\u001b[0m\u001b[0;34m)\u001b[0m\u001b[0;34m\u001b[0m\u001b[0m\n\u001b[1;32m     19\u001b[0m     \u001b[0mtest\u001b[0m\u001b[0;34m[\u001b[0m\u001b[0;34m'Return_to_owner_breed'\u001b[0m\u001b[0;34m]\u001b[0m \u001b[0;34m=\u001b[0m \u001b[0mtest\u001b[0m\u001b[0;34m[\u001b[0m\u001b[0;34m'breed1'\u001b[0m\u001b[0;34m]\u001b[0m\u001b[0;34m.\u001b[0m\u001b[0mapply\u001b[0m\u001b[0;34m(\u001b[0m\u001b[0;32mlambda\u001b[0m \u001b[0mx\u001b[0m\u001b[0;34m,\u001b[0m\u001b[0mg\u001b[0m\u001b[0;34m=\u001b[0m\u001b[0mgroup\u001b[0m\u001b[0;34m,\u001b[0m\u001b[0mc\u001b[0m\u001b[0;34m=\u001b[0m\u001b[0mcounts\u001b[0m \u001b[0;34m:\u001b[0m \u001b[0mgetValueFrequency2\u001b[0m\u001b[0;34m(\u001b[0m\u001b[0mg\u001b[0m\u001b[0;34m,\u001b[0m \u001b[0mc\u001b[0m\u001b[0;34m,\u001b[0m \u001b[0;34m'Return_to_owner'\u001b[0m\u001b[0;34m,\u001b[0m \u001b[0mx\u001b[0m\u001b[0;34m)\u001b[0m\u001b[0;34m)\u001b[0m\u001b[0;34m\u001b[0m\u001b[0m\n",
      "\u001b[0;32m<ipython-input-1011-160707fa3116>\u001b[0m in \u001b[0;36mgetValueFrequency2\u001b[0;34m(group, counts, outcomeType, breed)\u001b[0m\n\u001b[1;32m      1\u001b[0m \u001b[0;32mdef\u001b[0m \u001b[0mgetValueFrequency2\u001b[0m\u001b[0;34m(\u001b[0m\u001b[0mgroup\u001b[0m\u001b[0;34m,\u001b[0m \u001b[0mcounts\u001b[0m\u001b[0;34m,\u001b[0m \u001b[0moutcomeType\u001b[0m\u001b[0;34m,\u001b[0m \u001b[0mbreed\u001b[0m\u001b[0;34m)\u001b[0m\u001b[0;34m:\u001b[0m\u001b[0;34m\u001b[0m\u001b[0m\n\u001b[0;32m----> 2\u001b[0;31m     \u001b[0mg\u001b[0m \u001b[0;34m=\u001b[0m \u001b[0mgroup\u001b[0m\u001b[0;34m.\u001b[0m\u001b[0mxs\u001b[0m\u001b[0;34m(\u001b[0m\u001b[0;34m(\u001b[0m\u001b[0moutcomeType\u001b[0m\u001b[0;34m,\u001b[0m \u001b[0mbreed\u001b[0m\u001b[0;34m)\u001b[0m\u001b[0;34m,\u001b[0m \u001b[0mlevel\u001b[0m\u001b[0;34m=\u001b[0m\u001b[0;34m(\u001b[0m\u001b[0;34m'OutcomeType'\u001b[0m\u001b[0;34m,\u001b[0m \u001b[0;34m'breed1'\u001b[0m\u001b[0;34m)\u001b[0m\u001b[0;34m)\u001b[0m\u001b[0;34m[\u001b[0m\u001b[0;34m'Date'\u001b[0m\u001b[0;34m]\u001b[0m\u001b[0;34m\u001b[0m\u001b[0m\n\u001b[0m\u001b[1;32m      3\u001b[0m     \u001b[0;32mif\u001b[0m \u001b[0mg\u001b[0m\u001b[0;34m.\u001b[0m\u001b[0mvalues\u001b[0m\u001b[0;34m.\u001b[0m\u001b[0msize\u001b[0m \u001b[0;34m>\u001b[0m \u001b[0;36m0\u001b[0m\u001b[0;34m:\u001b[0m\u001b[0;34m\u001b[0m\u001b[0m\n\u001b[1;32m      4\u001b[0m         \u001b[0mval\u001b[0m \u001b[0;34m=\u001b[0m \u001b[0mg\u001b[0m\u001b[0;34m.\u001b[0m\u001b[0mvalues\u001b[0m\u001b[0;34m[\u001b[0m\u001b[0;36m0\u001b[0m\u001b[0;34m]\u001b[0m\u001b[0;34m\u001b[0m\u001b[0m\n\u001b[1;32m      5\u001b[0m         \u001b[0;32mreturn\u001b[0m \u001b[0mval\u001b[0m\u001b[0;34m/\u001b[0m\u001b[0;34m(\u001b[0m\u001b[0mcounts\u001b[0m\u001b[0;34m[\u001b[0m\u001b[0mbreed\u001b[0m\u001b[0;34m]\u001b[0m \u001b[0;34m*\u001b[0m \u001b[0;36m1.0\u001b[0m\u001b[0;34m)\u001b[0m\u001b[0;34m\u001b[0m\u001b[0m\n",
      "\u001b[0;32m/Users/marcos/anaconda/lib/python2.7/site-packages/pandas/core/generic.pyc\u001b[0m in \u001b[0;36mxs\u001b[0;34m(self, key, axis, level, copy, drop_level)\u001b[0m\n\u001b[1;32m   1715\u001b[0m         \u001b[0;32mif\u001b[0m \u001b[0mlevel\u001b[0m \u001b[0;32mis\u001b[0m \u001b[0;32mnot\u001b[0m \u001b[0mNone\u001b[0m\u001b[0;34m:\u001b[0m\u001b[0;34m\u001b[0m\u001b[0m\n\u001b[1;32m   1716\u001b[0m             loc, new_ax = labels.get_loc_level(key, level=level,\n\u001b[0;32m-> 1717\u001b[0;31m                                                drop_level=drop_level)\n\u001b[0m\u001b[1;32m   1718\u001b[0m \u001b[0;34m\u001b[0m\u001b[0m\n\u001b[1;32m   1719\u001b[0m             \u001b[0;31m# convert to a label indexer if needed\u001b[0m\u001b[0;34m\u001b[0m\u001b[0;34m\u001b[0m\u001b[0m\n",
      "\u001b[0;32m/Users/marcos/anaconda/lib/python2.7/site-packages/pandas/indexes/multi.pyc\u001b[0m in \u001b[0;36mget_loc_level\u001b[0;34m(self, key, level, drop_level)\u001b[0m\n\u001b[1;32m   1594\u001b[0m             \u001b[0mresult\u001b[0m \u001b[0;34m=\u001b[0m \u001b[0mNone\u001b[0m\u001b[0;34m\u001b[0m\u001b[0m\n\u001b[1;32m   1595\u001b[0m             \u001b[0;32mfor\u001b[0m \u001b[0mlev\u001b[0m\u001b[0;34m,\u001b[0m \u001b[0mk\u001b[0m \u001b[0;32min\u001b[0m \u001b[0mzip\u001b[0m\u001b[0;34m(\u001b[0m\u001b[0mlevel\u001b[0m\u001b[0;34m,\u001b[0m \u001b[0mkey\u001b[0m\u001b[0;34m)\u001b[0m\u001b[0;34m:\u001b[0m\u001b[0;34m\u001b[0m\u001b[0m\n\u001b[0;32m-> 1596\u001b[0;31m                 \u001b[0mloc\u001b[0m\u001b[0;34m,\u001b[0m \u001b[0mnew_index\u001b[0m \u001b[0;34m=\u001b[0m \u001b[0mself\u001b[0m\u001b[0;34m.\u001b[0m\u001b[0mget_loc_level\u001b[0m\u001b[0;34m(\u001b[0m\u001b[0mk\u001b[0m\u001b[0;34m,\u001b[0m \u001b[0mlevel\u001b[0m\u001b[0;34m=\u001b[0m\u001b[0mlev\u001b[0m\u001b[0;34m)\u001b[0m\u001b[0;34m\u001b[0m\u001b[0m\n\u001b[0m\u001b[1;32m   1597\u001b[0m                 \u001b[0;32mif\u001b[0m \u001b[0misinstance\u001b[0m\u001b[0;34m(\u001b[0m\u001b[0mloc\u001b[0m\u001b[0;34m,\u001b[0m \u001b[0mslice\u001b[0m\u001b[0;34m)\u001b[0m\u001b[0;34m:\u001b[0m\u001b[0;34m\u001b[0m\u001b[0m\n\u001b[1;32m   1598\u001b[0m                     \u001b[0mmask\u001b[0m \u001b[0;34m=\u001b[0m \u001b[0mnp\u001b[0m\u001b[0;34m.\u001b[0m\u001b[0mzeros\u001b[0m\u001b[0;34m(\u001b[0m\u001b[0mlen\u001b[0m\u001b[0;34m(\u001b[0m\u001b[0mself\u001b[0m\u001b[0;34m)\u001b[0m\u001b[0;34m,\u001b[0m \u001b[0mdtype\u001b[0m\u001b[0;34m=\u001b[0m\u001b[0mbool\u001b[0m\u001b[0;34m)\u001b[0m\u001b[0;34m\u001b[0m\u001b[0m\n",
      "\u001b[0;32m/Users/marcos/anaconda/lib/python2.7/site-packages/pandas/indexes/multi.pyc\u001b[0m in \u001b[0;36mget_loc_level\u001b[0;34m(self, key, level, drop_level)\u001b[0m\n\u001b[1;32m   1689\u001b[0m                 \u001b[0;32mreturn\u001b[0m \u001b[0mindexer\u001b[0m\u001b[0;34m,\u001b[0m \u001b[0mmaybe_droplevels\u001b[0m\u001b[0;34m(\u001b[0m\u001b[0mindexer\u001b[0m\u001b[0;34m,\u001b[0m \u001b[0milevels\u001b[0m\u001b[0;34m,\u001b[0m \u001b[0mdrop_level\u001b[0m\u001b[0;34m)\u001b[0m\u001b[0;34m\u001b[0m\u001b[0m\n\u001b[1;32m   1690\u001b[0m         \u001b[0;32melse\u001b[0m\u001b[0;34m:\u001b[0m\u001b[0;34m\u001b[0m\u001b[0m\n\u001b[0;32m-> 1691\u001b[0;31m             \u001b[0mindexer\u001b[0m \u001b[0;34m=\u001b[0m \u001b[0mself\u001b[0m\u001b[0;34m.\u001b[0m\u001b[0m_get_level_indexer\u001b[0m\u001b[0;34m(\u001b[0m\u001b[0mkey\u001b[0m\u001b[0;34m,\u001b[0m \u001b[0mlevel\u001b[0m\u001b[0;34m=\u001b[0m\u001b[0mlevel\u001b[0m\u001b[0;34m)\u001b[0m\u001b[0;34m\u001b[0m\u001b[0m\n\u001b[0m\u001b[1;32m   1692\u001b[0m             \u001b[0;32mreturn\u001b[0m \u001b[0mindexer\u001b[0m\u001b[0;34m,\u001b[0m \u001b[0mmaybe_droplevels\u001b[0m\u001b[0;34m(\u001b[0m\u001b[0mindexer\u001b[0m\u001b[0;34m,\u001b[0m \u001b[0;34m[\u001b[0m\u001b[0mlevel\u001b[0m\u001b[0;34m]\u001b[0m\u001b[0;34m,\u001b[0m \u001b[0mdrop_level\u001b[0m\u001b[0;34m)\u001b[0m\u001b[0;34m\u001b[0m\u001b[0m\n\u001b[1;32m   1693\u001b[0m \u001b[0;34m\u001b[0m\u001b[0m\n",
      "\u001b[0;32m/Users/marcos/anaconda/lib/python2.7/site-packages/pandas/indexes/multi.pyc\u001b[0m in \u001b[0;36m_get_level_indexer\u001b[0;34m(self, key, level, indexer)\u001b[0m\n\u001b[1;32m   1768\u001b[0m         \u001b[0;32melse\u001b[0m\u001b[0;34m:\u001b[0m\u001b[0;34m\u001b[0m\u001b[0m\n\u001b[1;32m   1769\u001b[0m \u001b[0;34m\u001b[0m\u001b[0m\n\u001b[0;32m-> 1770\u001b[0;31m             \u001b[0mloc\u001b[0m \u001b[0;34m=\u001b[0m \u001b[0mlevel_index\u001b[0m\u001b[0;34m.\u001b[0m\u001b[0mget_loc\u001b[0m\u001b[0;34m(\u001b[0m\u001b[0mkey\u001b[0m\u001b[0;34m)\u001b[0m\u001b[0;34m\u001b[0m\u001b[0m\n\u001b[0m\u001b[1;32m   1771\u001b[0m             \u001b[0;32mif\u001b[0m \u001b[0mlevel\u001b[0m \u001b[0;34m>\u001b[0m \u001b[0;36m0\u001b[0m \u001b[0;32mor\u001b[0m \u001b[0mself\u001b[0m\u001b[0;34m.\u001b[0m\u001b[0mlexsort_depth\u001b[0m \u001b[0;34m==\u001b[0m \u001b[0;36m0\u001b[0m\u001b[0;34m:\u001b[0m\u001b[0;34m\u001b[0m\u001b[0m\n\u001b[1;32m   1772\u001b[0m                 \u001b[0;32mreturn\u001b[0m \u001b[0mnp\u001b[0m\u001b[0;34m.\u001b[0m\u001b[0marray\u001b[0m\u001b[0;34m(\u001b[0m\u001b[0mlabels\u001b[0m \u001b[0;34m==\u001b[0m \u001b[0mloc\u001b[0m\u001b[0;34m,\u001b[0m \u001b[0mdtype\u001b[0m\u001b[0;34m=\u001b[0m\u001b[0mbool\u001b[0m\u001b[0;34m)\u001b[0m\u001b[0;34m\u001b[0m\u001b[0m\n",
      "\u001b[0;32m/Users/marcos/anaconda/lib/python2.7/site-packages/pandas/indexes/base.pyc\u001b[0m in \u001b[0;36mget_loc\u001b[0;34m(self, key, method, tolerance)\u001b[0m\n\u001b[1;32m   1876\u001b[0m                 \u001b[0;32mreturn\u001b[0m \u001b[0mself\u001b[0m\u001b[0;34m.\u001b[0m\u001b[0m_engine\u001b[0m\u001b[0;34m.\u001b[0m\u001b[0mget_loc\u001b[0m\u001b[0;34m(\u001b[0m\u001b[0mkey\u001b[0m\u001b[0;34m)\u001b[0m\u001b[0;34m\u001b[0m\u001b[0m\n\u001b[1;32m   1877\u001b[0m             \u001b[0;32mexcept\u001b[0m \u001b[0mKeyError\u001b[0m\u001b[0;34m:\u001b[0m\u001b[0;34m\u001b[0m\u001b[0m\n\u001b[0;32m-> 1878\u001b[0;31m                 \u001b[0;32mreturn\u001b[0m \u001b[0mself\u001b[0m\u001b[0;34m.\u001b[0m\u001b[0m_engine\u001b[0m\u001b[0;34m.\u001b[0m\u001b[0mget_loc\u001b[0m\u001b[0;34m(\u001b[0m\u001b[0mself\u001b[0m\u001b[0;34m.\u001b[0m\u001b[0m_maybe_cast_indexer\u001b[0m\u001b[0;34m(\u001b[0m\u001b[0mkey\u001b[0m\u001b[0;34m)\u001b[0m\u001b[0;34m)\u001b[0m\u001b[0;34m\u001b[0m\u001b[0m\n\u001b[0m\u001b[1;32m   1879\u001b[0m \u001b[0;34m\u001b[0m\u001b[0m\n\u001b[1;32m   1880\u001b[0m         \u001b[0mindexer\u001b[0m \u001b[0;34m=\u001b[0m \u001b[0mself\u001b[0m\u001b[0;34m.\u001b[0m\u001b[0mget_indexer\u001b[0m\u001b[0;34m(\u001b[0m\u001b[0;34m[\u001b[0m\u001b[0mkey\u001b[0m\u001b[0;34m]\u001b[0m\u001b[0;34m,\u001b[0m \u001b[0mmethod\u001b[0m\u001b[0;34m=\u001b[0m\u001b[0mmethod\u001b[0m\u001b[0;34m,\u001b[0m \u001b[0mtolerance\u001b[0m\u001b[0;34m=\u001b[0m\u001b[0mtolerance\u001b[0m\u001b[0;34m)\u001b[0m\u001b[0;34m\u001b[0m\u001b[0m\n",
      "\u001b[0;32mpandas/index.pyx\u001b[0m in \u001b[0;36mpandas.index.IndexEngine.get_loc (pandas/index.c:4027)\u001b[0;34m()\u001b[0m\n",
      "\u001b[0;32mpandas/index.pyx\u001b[0m in \u001b[0;36mpandas.index.IndexEngine.get_loc (pandas/index.c:3891)\u001b[0;34m()\u001b[0m\n",
      "\u001b[0;32mpandas/hashtable.pyx\u001b[0m in \u001b[0;36mpandas.hashtable.PyObjectHashTable.get_item (pandas/hashtable.c:12408)\u001b[0;34m()\u001b[0m\n",
      "\u001b[0;32mpandas/hashtable.pyx\u001b[0m in \u001b[0;36mpandas.hashtable.PyObjectHashTable.get_item (pandas/hashtable.c:12359)\u001b[0;34m()\u001b[0m\n",
      "\u001b[0;31mKeyError\u001b[0m: 'SCOTTISH FOLD'"
     ]
    }
   ],
   "source": [
    "generateFrequencyFeatures(train,test)\n",
    "generate_features(train, True)\n",
    "generate_features(test)\n",
    "generateFrequencyFeatures2(train,test)\n",
    "'''\n",
    "train = generateBreedFeatures(train)\n",
    "test = generateBreedFeatures(test)\n",
    "'''\n",
    "\n",
    "test.head()"
   ]
  },
  {
   "cell_type": "code",
   "execution_count": null,
   "metadata": {
    "collapsed": false
   },
   "outputs": [],
   "source": [
    "train.describe()"
   ]
  },
  {
   "cell_type": "code",
   "execution_count": null,
   "metadata": {
    "collapsed": false
   },
   "outputs": [],
   "source": [
    "breed_train = np.append(train['breed1'], train['breed2'])\n",
    "breed_test = np.append(test['breed1'], test['breed2'])\n",
    "le = LabelEncoder().fit(np.append(breed_train, breed_test))\n",
    "train['breed1'] = le.transform(train['breed1'])\n",
    "test['breed1'] = le.transform(test['breed1'])\n",
    "train['breed2'] = le.transform(train['breed2'])\n",
    "test['breed2'] = le.transform(test['breed2'])"
   ]
  },
  {
   "cell_type": "code",
   "execution_count": null,
   "metadata": {
    "collapsed": false
   },
   "outputs": [],
   "source": [
    "color_train = np.append(train['color1'], train['color2'])\n",
    "color_test = np.append(test['color1'], test['color2'])\n",
    "le = LabelEncoder().fit(np.append(color_train, color_test))\n",
    "train['color1'] = le.transform(train['color1'])\n",
    "test['color1'] = le.transform(test['color1'])\n",
    "train['color2'] = le.transform(train['color2'])\n",
    "test['color2'] = le.transform(test['color2'])"
   ]
  },
  {
   "cell_type": "code",
   "execution_count": null,
   "metadata": {
    "collapsed": false
   },
   "outputs": [],
   "source": [
    "for col in ['AnimalType','Date']:\n",
    "    le = LabelEncoder().fit(np.append(train[col], test[col]))\n",
    "    train[col] = le.transform(train[col])\n",
    "    test[col] = le.transform(test[col])"
   ]
  },
  {
   "cell_type": "markdown",
   "metadata": {
    "ExecuteTime": {
     "end_time": "2016-06-29T13:44:04.620000",
     "start_time": "2016-06-29T13:44:04.616000"
    }
   },
   "source": [
    "Convertendo campo categórico para número inteiro, porque os modelos matemáricos do sklearn só aceitam números. <br />\n",
    "Utilizando: http://scikit-learn.org/stable/modules/generated/sklearn.preprocessing.LabelEncoder.html"
   ]
  },
  {
   "cell_type": "markdown",
   "metadata": {},
   "source": [
    "Separando o TARGET do meu treino."
   ]
  },
  {
   "cell_type": "code",
   "execution_count": null,
   "metadata": {
    "ExecuteTime": {
     "end_time": "2016-06-29T15:00:14.674000",
     "start_time": "2016-06-29T15:00:14.653000"
    },
    "collapsed": false
   },
   "outputs": [],
   "source": [
    "target = train['OutcomeType']\n",
    "data   = train.drop('OutcomeType', axis=1)"
   ]
  },
  {
   "cell_type": "code",
   "execution_count": null,
   "metadata": {
    "collapsed": false
   },
   "outputs": [],
   "source": [
    "train.head()"
   ]
  },
  {
   "cell_type": "markdown",
   "metadata": {},
   "source": [
    "Executando o método random forest classifier do sklearn.<br />\n",
    "http://scikit-learn.org/stable/modules/generated/sklearn.ensemble.RandomForestClassifier.html"
   ]
  },
  {
   "cell_type": "code",
   "execution_count": null,
   "metadata": {
    "collapsed": false
   },
   "outputs": [],
   "source": [
    "target.head()\n",
    "test.head()"
   ]
  },
  {
   "cell_type": "code",
   "execution_count": null,
   "metadata": {
    "ExecuteTime": {
     "end_time": "2016-06-29T15:00:15.070000",
     "start_time": "2016-06-29T15:00:14.687000"
    },
    "collapsed": false
   },
   "outputs": [],
   "source": [
    "clf = xgb.XGBClassifier(max_depth=7, n_estimators=325, learning_rate=0.05, silent=1, objective='multi:softprob',\n",
    "                        subsample=0.55,colsample_bytree=0.65)\n",
    "fit = clf.fit(data, target)\n",
    "proba = fit.predict_proba(test)"
   ]
  },
  {
   "cell_type": "code",
   "execution_count": null,
   "metadata": {
    "collapsed": false
   },
   "outputs": [],
   "source": []
  },
  {
   "cell_type": "markdown",
   "metadata": {},
   "source": [
    "<hr />\n",
    "Salvando em arquivo CSV para enviar ao Kaggle"
   ]
  },
  {
   "cell_type": "code",
   "execution_count": null,
   "metadata": {
    "ExecuteTime": {
     "end_time": "2016-06-29T15:00:15.121000",
     "start_time": "2016-06-29T15:00:15.072000"
    },
    "collapsed": false
   },
   "outputs": [],
   "source": [
    "proba = fit.predict_proba(test)\n",
    "ret = pd.DataFrame(proba, index=test.index, columns=fit.classes_)\n",
    "#ret.index = ret.index+1\n",
    "ret.sort_index(inplace=True)\n",
    "ret.to_csv('output/submission.csv', index_label=\"ID\")"
   ]
  },
  {
   "cell_type": "code",
   "execution_count": null,
   "metadata": {
    "collapsed": false
   },
   "outputs": [],
   "source": [
    "cross_validation.cross_val_score(clf, data, target, scoring='log_loss') "
   ]
  },
  {
   "cell_type": "markdown",
   "metadata": {},
   "source": [
    "array([-0.74041248, -0.73777135, -0.72835238])\n",
    "\n",
    "array([-0.73664086, -0.73223007, -0.72688397]) - 250 todas novas features\n",
    "\n",
    "array([-0.73662436, -0.73447814, -0.72777039]) - 250 novas features com breed (somente size e grupo)\n",
    "\n",
    "array([-0.73897436, -0.73514682, -0.72964329]) - 250 novas features (sem breed)\n",
    "\n",
    "array([-0.74055679, -0.73587788, -0.72771282]) 250\n",
    "\n",
    "array([-0.74086091, -0.73629684, -0.72751988]) 300\n",
    "\n",
    "array([-0.74145022, -0.73730085, -0.72769767]) 325\n",
    "\n",
    "array([-0.73915104, -0.73577702, -0.72817969])\n",
    "\n",
    "array([-0.74346893, -0.73752276, -0.72980024])\n",
    "\n",
    "array([-0.74321041, -0.73832364, -0.73052855])\n",
    "\n",
    "array([-0.74873247, -0.74552813, -0.73572743])\n",
    "\n",
    "array([-0.75646983, -0.74827674, -0.74707565])\n",
    "\n",
    "array([-0.75622374, -0.75086099, -0.74849421])\n",
    "\n",
    "array([-0.75715345, -0.75192073, -0.74662878]) - estimators = 325\n",
    "\n",
    "array([-0.75753229, -0.75203215, -0.74645084]) - estimators = 350\n",
    "\n",
    "array([-0.75726917, -0.75237363, -0.74653154]) - depth = 6\n",
    "\n",
    "array([-0.76324843, -0.75360441, -0.74913675])\n",
    "\n",
    "array([-0.76832682, -0.76022552, -0.75612068])\n",
    "\n",
    "array([-0.77868186, -0.76961524, -0.7654266 ])\n",
    "\n",
    "array([-0.80053641, -0.79496805, -0.79203674])\n",
    "\n",
    "array([-0.87241774, -0.86908006, -0.85758873])\n",
    "\n",
    "array([-0.90137227, -0.89607375, -0.89042396])\n",
    "\n",
    "\n",
    "**Fim** <br />\n",
    "Esse notebook é um exemplo mais simples que podemos fazer o uso do Machine Learning com a bibioteca Python + Sklearn. <br /><br />\n",
    "Existem algumas evolutivas que podem ser feitas para uma melhor performance:\n",
    "- adicionar novas features\n",
    "- fazer uso cross-validation para fazer testes\n",
    "- fazer o uso de ensembling para melhorar o seu score no final\n",
    "- Testar com diferentes parâmetros no seu método.\n",
    "- Etc...\n",
    "\n",
    "O próximo notebook criarei um exemplo usando o Cross-Validation e criando novas features."
   ]
  },
  {
   "cell_type": "code",
   "execution_count": 274,
   "metadata": {
    "collapsed": false
   },
   "outputs": [
    {
     "data": {
      "text/plain": [
       "array([-0.74670811, -0.75986422, -0.7324921 ])"
      ]
     },
     "execution_count": 274,
     "metadata": {},
     "output_type": "execute_result"
    }
   ],
   "source": [
    "clf = RandomForestClassifier(n_estimators=200)\n",
    "fit = clf.fit(data, target)\n",
    "proba = fit.predict_proba(test)\n",
    "cross_validation.cross_val_score(clf, data, target, scoring='log_loss') "
   ]
  },
  {
   "cell_type": "code",
   "execution_count": 275,
   "metadata": {
    "collapsed": true
   },
   "outputs": [],
   "source": [
    "ret = pd.DataFrame(proba, index=test.index, columns=fit.classes_)\n",
    "ret.sort_index(inplace=True)\n",
    "ret.to_csv('output/submission.csv', index_label=\"ID\")"
   ]
  },
  {
   "cell_type": "code",
   "execution_count": null,
   "metadata": {
    "collapsed": true
   },
   "outputs": [],
   "source": []
  }
 ],
 "metadata": {
  "kernelspec": {
   "display_name": "Python 2",
   "language": "python",
   "name": "python2"
  },
  "language_info": {
   "codemirror_mode": {
    "name": "ipython",
    "version": 2
   },
   "file_extension": ".py",
   "mimetype": "text/x-python",
   "name": "python",
   "nbconvert_exporter": "python",
   "pygments_lexer": "ipython2",
   "version": "2.7.12"
  }
 },
 "nbformat": 4,
 "nbformat_minor": 0
}
