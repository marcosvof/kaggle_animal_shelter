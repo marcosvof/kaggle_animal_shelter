{
 "cells": [
  {
   "cell_type": "code",
   "execution_count": 50,
   "metadata": {
    "collapsed": true
   },
   "outputs": [],
   "source": [
    "import pandas as pd\n",
    "import numpy as np\n",
    "from sklearn.metrics import log_loss\n",
    "from sklearn.preprocessing import LabelEncoder\n",
    "from sklearn.cross_validation import train_test_split, cross_val_score\n",
    "from sklearn.neighbors import KNeighborsClassifier\n",
    "from sklearn.svm import SVC\n",
    "from sklearn.tree import DecisionTreeClassifier\n",
    "from sklearn.ensemble import RandomForestClassifier, AdaBoostClassifier, GradientBoostingClassifier\n",
    "from sklearn.naive_bayes import GaussianNB\n",
    "from sklearn.discriminant_analysis import LinearDiscriminantAnalysis, QuadraticDiscriminantAnalysis"
   ]
  },
  {
   "cell_type": "code",
   "execution_count": 51,
   "metadata": {
    "collapsed": true
   },
   "outputs": [],
   "source": [
    "import scipy as sp\n",
    "def logloss(act, pred):\n",
    "    epsilon = 1e-15\n",
    "    pred = sp.maximum(epsilon, pred)\n",
    "    pred = sp.minimum(1-epsilon, pred)\n",
    "    ll = sum(act*sp.log(pred) + sp.subtract(1,act)*sp.log(sp.subtract(1,pred)))\n",
    "    ll = ll * -1.0/len(act)\n",
    "    return ll"
   ]
  },
  {
   "cell_type": "code",
   "execution_count": 52,
   "metadata": {
    "collapsed": false
   },
   "outputs": [],
   "source": [
    "def generate_features(data):\n",
    "    ###### RETIRANDO O OUTCOMESUBTYPE O NAME DO TREINO E TESTE ######\n",
    "    data['has_name'] = data['Name'].apply(lambda x :  pd.notnull(x) )\n",
    "    \n",
    "    data['DateTime'] = data['DateTime'].apply(lambda x : pd.tslib.Timestamp(x, tz=None))\n",
    "    data['day'] = data['DateTime'].apply(lambda x : x.day)\n",
    "    data['month'] = data['DateTime'].apply(lambda x : x.month)\n",
    "    data['year'] = data['DateTime'].apply(lambda x : x.year)\n",
    "    data['hour'] = data['DateTime'].apply(lambda x : x.hour)\n",
    "    data['minute'] = data['DateTime'].apply(lambda x : x.minute)\n",
    "    data['weekday'] = data['DateTime'].apply(lambda x : x.weekday() < 5)\n",
    "    data['working_hour'] = data['DateTime'].apply(lambda x : x.hour >= 8 and x.hour <= 18)\n",
    "    data['madrugada'] = data['DateTime'].apply(lambda x : x.hour < 6)\n",
    "    data['manha'] = data['DateTime'].apply(lambda x : x.hour > 6 and x.hour < 12)\n",
    "    data['tarde'] = data['DateTime'].apply(lambda x : x.hour > 12 and x.hour < 18)\n",
    "    data['noite'] = data['DateTime'].apply(lambda x : x.hour > 18)\n",
    "\n",
    "    data.drop(['Name', 'DateTime'], axis=1, inplace=True)\n",
    "    \n",
    "    ###### TRATAMENTO DOS DADOS CATEGORICOS ######\n",
    "    for col in ['AnimalType', 'SexuponOutcome', 'AgeuponOutcome', 'Breed', 'Color']:\n",
    "        le = LabelEncoder().fit(np.append(train[col], test[col]))\n",
    "        data[col] = le.transform(data[col])"
   ]
  },
  {
   "cell_type": "code",
   "execution_count": 53,
   "metadata": {
    "collapsed": false
   },
   "outputs": [],
   "source": [
    "###### LENDO O TREINO E TESTE ######\n",
    "train = pd.read_csv('input/train.csv', index_col='AnimalID')\n",
    "test = pd.read_csv('input/test.csv', index_col='ID')\n",
    "\n",
    "train.drop('OutcomeSubtype', axis=1, inplace=True)\n",
    "    \n",
    "#train.head()"
   ]
  },
  {
   "cell_type": "code",
   "execution_count": null,
   "metadata": {
    "collapsed": false
   },
   "outputs": [],
   "source": []
  },
  {
   "cell_type": "code",
   "execution_count": 54,
   "metadata": {
    "collapsed": false
   },
   "outputs": [
    {
     "data": {
      "text/html": [
       "<div>\n",
       "<table border=\"1\" class=\"dataframe\">\n",
       "  <thead>\n",
       "    <tr style=\"text-align: right;\">\n",
       "      <th></th>\n",
       "      <th>Name</th>\n",
       "      <th>DateTime</th>\n",
       "      <th>OutcomeType</th>\n",
       "      <th>AnimalType</th>\n",
       "      <th>SexuponOutcome</th>\n",
       "      <th>AgeuponOutcome</th>\n",
       "      <th>Breed</th>\n",
       "      <th>Color</th>\n",
       "    </tr>\n",
       "    <tr>\n",
       "      <th>AnimalID</th>\n",
       "      <th></th>\n",
       "      <th></th>\n",
       "      <th></th>\n",
       "      <th></th>\n",
       "      <th></th>\n",
       "      <th></th>\n",
       "      <th></th>\n",
       "      <th></th>\n",
       "    </tr>\n",
       "  </thead>\n",
       "  <tbody>\n",
       "    <tr>\n",
       "      <th>A671945</th>\n",
       "      <td>Hambone</td>\n",
       "      <td>2014-02-12 18:22:00</td>\n",
       "      <td>Return_to_owner</td>\n",
       "      <td>Dog</td>\n",
       "      <td>Neutered Male</td>\n",
       "      <td>1 year</td>\n",
       "      <td>Shetland Sheepdog Mix</td>\n",
       "      <td>Brown/White</td>\n",
       "    </tr>\n",
       "    <tr>\n",
       "      <th>A656520</th>\n",
       "      <td>Emily</td>\n",
       "      <td>2013-10-13 12:44:00</td>\n",
       "      <td>Euthanasia</td>\n",
       "      <td>Cat</td>\n",
       "      <td>Spayed Female</td>\n",
       "      <td>1 year</td>\n",
       "      <td>Domestic Shorthair Mix</td>\n",
       "      <td>Cream Tabby</td>\n",
       "    </tr>\n",
       "    <tr>\n",
       "      <th>A686464</th>\n",
       "      <td>Pearce</td>\n",
       "      <td>2015-01-31 12:28:00</td>\n",
       "      <td>Adoption</td>\n",
       "      <td>Dog</td>\n",
       "      <td>Neutered Male</td>\n",
       "      <td>2 years</td>\n",
       "      <td>Pit Bull Mix</td>\n",
       "      <td>Blue/White</td>\n",
       "    </tr>\n",
       "    <tr>\n",
       "      <th>A683430</th>\n",
       "      <td>NaN</td>\n",
       "      <td>2014-07-11 19:09:00</td>\n",
       "      <td>Transfer</td>\n",
       "      <td>Cat</td>\n",
       "      <td>Intact Male</td>\n",
       "      <td>3 weeks</td>\n",
       "      <td>Domestic Shorthair Mix</td>\n",
       "      <td>Blue Cream</td>\n",
       "    </tr>\n",
       "    <tr>\n",
       "      <th>A667013</th>\n",
       "      <td>NaN</td>\n",
       "      <td>2013-11-15 12:52:00</td>\n",
       "      <td>Transfer</td>\n",
       "      <td>Dog</td>\n",
       "      <td>Neutered Male</td>\n",
       "      <td>2 years</td>\n",
       "      <td>Lhasa Apso/Miniature Poodle</td>\n",
       "      <td>Tan</td>\n",
       "    </tr>\n",
       "  </tbody>\n",
       "</table>\n",
       "</div>"
      ],
      "text/plain": [
       "             Name             DateTime      OutcomeType AnimalType  \\\n",
       "AnimalID                                                             \n",
       "A671945   Hambone  2014-02-12 18:22:00  Return_to_owner        Dog   \n",
       "A656520     Emily  2013-10-13 12:44:00       Euthanasia        Cat   \n",
       "A686464    Pearce  2015-01-31 12:28:00         Adoption        Dog   \n",
       "A683430       NaN  2014-07-11 19:09:00         Transfer        Cat   \n",
       "A667013       NaN  2013-11-15 12:52:00         Transfer        Dog   \n",
       "\n",
       "         SexuponOutcome AgeuponOutcome                        Breed  \\\n",
       "AnimalID                                                              \n",
       "A671945   Neutered Male         1 year        Shetland Sheepdog Mix   \n",
       "A656520   Spayed Female         1 year       Domestic Shorthair Mix   \n",
       "A686464   Neutered Male        2 years                 Pit Bull Mix   \n",
       "A683430     Intact Male        3 weeks       Domestic Shorthair Mix   \n",
       "A667013   Neutered Male        2 years  Lhasa Apso/Miniature Poodle   \n",
       "\n",
       "                Color  \n",
       "AnimalID               \n",
       "A671945   Brown/White  \n",
       "A656520   Cream Tabby  \n",
       "A686464    Blue/White  \n",
       "A683430    Blue Cream  \n",
       "A667013           Tan  "
      ]
     },
     "execution_count": 54,
     "metadata": {},
     "output_type": "execute_result"
    }
   ],
   "source": [
    "\n",
    "train.head()"
   ]
  },
  {
   "cell_type": "code",
   "execution_count": 55,
   "metadata": {
    "collapsed": false
   },
   "outputs": [],
   "source": [
    "generate_features(train)\n",
    "generate_features(test)"
   ]
  },
  {
   "cell_type": "code",
   "execution_count": 56,
   "metadata": {
    "collapsed": false
   },
   "outputs": [
    {
     "data": {
      "text/html": [
       "<div>\n",
       "<table border=\"1\" class=\"dataframe\">\n",
       "  <thead>\n",
       "    <tr style=\"text-align: right;\">\n",
       "      <th></th>\n",
       "      <th>OutcomeType</th>\n",
       "      <th>AnimalType</th>\n",
       "      <th>SexuponOutcome</th>\n",
       "      <th>AgeuponOutcome</th>\n",
       "      <th>Breed</th>\n",
       "      <th>Color</th>\n",
       "      <th>has_name</th>\n",
       "      <th>day</th>\n",
       "      <th>month</th>\n",
       "      <th>year</th>\n",
       "      <th>hour</th>\n",
       "      <th>minute</th>\n",
       "      <th>weekday</th>\n",
       "      <th>working_hour</th>\n",
       "    </tr>\n",
       "    <tr>\n",
       "      <th>AnimalID</th>\n",
       "      <th></th>\n",
       "      <th></th>\n",
       "      <th></th>\n",
       "      <th></th>\n",
       "      <th></th>\n",
       "      <th></th>\n",
       "      <th></th>\n",
       "      <th></th>\n",
       "      <th></th>\n",
       "      <th></th>\n",
       "      <th></th>\n",
       "      <th></th>\n",
       "      <th></th>\n",
       "      <th></th>\n",
       "    </tr>\n",
       "  </thead>\n",
       "  <tbody>\n",
       "    <tr>\n",
       "      <th>A671945</th>\n",
       "      <td>Return_to_owner</td>\n",
       "      <td>1</td>\n",
       "      <td>3</td>\n",
       "      <td>6</td>\n",
       "      <td>1482</td>\n",
       "      <td>146</td>\n",
       "      <td>True</td>\n",
       "      <td>12</td>\n",
       "      <td>2</td>\n",
       "      <td>2014</td>\n",
       "      <td>18</td>\n",
       "      <td>22</td>\n",
       "      <td>True</td>\n",
       "      <td>True</td>\n",
       "    </tr>\n",
       "    <tr>\n",
       "      <th>A656520</th>\n",
       "      <td>Euthanasia</td>\n",
       "      <td>0</td>\n",
       "      <td>4</td>\n",
       "      <td>6</td>\n",
       "      <td>775</td>\n",
       "      <td>184</td>\n",
       "      <td>True</td>\n",
       "      <td>13</td>\n",
       "      <td>10</td>\n",
       "      <td>2013</td>\n",
       "      <td>12</td>\n",
       "      <td>44</td>\n",
       "      <td>False</td>\n",
       "      <td>True</td>\n",
       "    </tr>\n",
       "    <tr>\n",
       "      <th>A686464</th>\n",
       "      <td>Adoption</td>\n",
       "      <td>1</td>\n",
       "      <td>3</td>\n",
       "      <td>22</td>\n",
       "      <td>1293</td>\n",
       "      <td>97</td>\n",
       "      <td>True</td>\n",
       "      <td>31</td>\n",
       "      <td>1</td>\n",
       "      <td>2015</td>\n",
       "      <td>12</td>\n",
       "      <td>28</td>\n",
       "      <td>False</td>\n",
       "      <td>True</td>\n",
       "    </tr>\n",
       "    <tr>\n",
       "      <th>A683430</th>\n",
       "      <td>Transfer</td>\n",
       "      <td>0</td>\n",
       "      <td>2</td>\n",
       "      <td>27</td>\n",
       "      <td>775</td>\n",
       "      <td>47</td>\n",
       "      <td>False</td>\n",
       "      <td>11</td>\n",
       "      <td>7</td>\n",
       "      <td>2014</td>\n",
       "      <td>19</td>\n",
       "      <td>9</td>\n",
       "      <td>True</td>\n",
       "      <td>False</td>\n",
       "    </tr>\n",
       "    <tr>\n",
       "      <th>A667013</th>\n",
       "      <td>Transfer</td>\n",
       "      <td>1</td>\n",
       "      <td>3</td>\n",
       "      <td>22</td>\n",
       "      <td>1101</td>\n",
       "      <td>311</td>\n",
       "      <td>False</td>\n",
       "      <td>15</td>\n",
       "      <td>11</td>\n",
       "      <td>2013</td>\n",
       "      <td>12</td>\n",
       "      <td>52</td>\n",
       "      <td>True</td>\n",
       "      <td>True</td>\n",
       "    </tr>\n",
       "  </tbody>\n",
       "</table>\n",
       "</div>"
      ],
      "text/plain": [
       "              OutcomeType  AnimalType  SexuponOutcome  AgeuponOutcome  Breed  \\\n",
       "AnimalID                                                                       \n",
       "A671945   Return_to_owner           1               3               6   1482   \n",
       "A656520        Euthanasia           0               4               6    775   \n",
       "A686464          Adoption           1               3              22   1293   \n",
       "A683430          Transfer           0               2              27    775   \n",
       "A667013          Transfer           1               3              22   1101   \n",
       "\n",
       "          Color has_name  day  month  year  hour  minute weekday working_hour  \n",
       "AnimalID                                                                       \n",
       "A671945     146     True   12      2  2014    18      22    True         True  \n",
       "A656520     184     True   13     10  2013    12      44   False         True  \n",
       "A686464      97     True   31      1  2015    12      28   False         True  \n",
       "A683430      47    False   11      7  2014    19       9    True        False  \n",
       "A667013     311    False   15     11  2013    12      52    True         True  "
      ]
     },
     "execution_count": 56,
     "metadata": {},
     "output_type": "execute_result"
    }
   ],
   "source": [
    "train.head()"
   ]
  },
  {
   "cell_type": "code",
   "execution_count": null,
   "metadata": {
    "collapsed": true
   },
   "outputs": [],
   "source": []
  },
  {
   "cell_type": "code",
   "execution_count": 57,
   "metadata": {
    "collapsed": true
   },
   "outputs": [],
   "source": [
    "#print train.head(3)\n",
    "\n",
    "###### SEPARA O TREINO EM DADOS DE TREINO E LISTA DE CLASSES ######\n",
    "data   = train.drop('OutcomeType', axis=1)\n",
    "target = train['OutcomeType']"
   ]
  },
  {
   "cell_type": "code",
   "execution_count": 58,
   "metadata": {
    "collapsed": false
   },
   "outputs": [],
   "source": [
    "###### ESCOLHA O SEU CLASSIFICADOR ######\n",
    "#classifiers = [KNeighborsClassifier(3),KNeighborsClassifier(3),#SVC(probability=True),SVC(gamma=2, C=1),\n",
    "#              GaussianNB(),QuadraticDiscriminantAnalysis(),DecisionTreeClassifier(),RandomForestClassifier(),\n",
    "#             AdaBoostClassifier(),LinearDiscriminantAnalysis(),GradientBoostingClassifier()]\n",
    "\n",
    "classifiers = [GradientBoostingClassifier()]\n",
    "#clf = KNeighborsClassifier(3)\n",
    "#clf = SVC(probability=True)\n",
    "#clf = SVC(gamma=2, C=1)\n",
    "#clf = GaussianNB()\n",
    "#clf = QuadraticDiscriminantAnalysis()\n",
    "#clf = DecisionTreeClassifier()\n",
    "#clf = RandomForestClassifier()\n",
    "#clf = AdaBoostClassifier()\n",
    "#clf = LinearDiscriminantAnalysis()\n",
    "#clf = GradientBoostingClassifier()"
   ]
  },
  {
   "cell_type": "code",
   "execution_count": 59,
   "metadata": {
    "collapsed": false
   },
   "outputs": [
    {
     "name": "stdout",
     "output_type": "stream",
     "text": [
      "LogLoss:\n",
      "[-0.80066353 -0.79627435 -0.7929841 ]\n"
     ]
    }
   ],
   "source": [
    "###### TREINANDO O CLASSIFICADOR ######\n",
    "for clf in classifiers:\n",
    "    fit = clf.fit(data, target)\n",
    "    print \"LogLoss:\"\n",
    "    print cross_val_score(clf, data, target, cv=3, scoring='log_loss', verbose=0)"
   ]
  },
  {
   "cell_type": "markdown",
   "metadata": {},
   "source": [
    "LogLoss:\n",
    "[-0.80012116 -0.79410543 -0.79238406]\n"
   ]
  },
  {
   "cell_type": "code",
   "execution_count": 41,
   "metadata": {
    "collapsed": false
   },
   "outputs": [
    {
     "data": {
      "text/plain": [
       "AnimalID\n",
       "A671945    Return_to_owner\n",
       "A656520         Euthanasia\n",
       "A686464           Adoption\n",
       "A683430           Transfer\n",
       "A667013           Transfer\n",
       "Name: OutcomeType, dtype: object"
      ]
     },
     "execution_count": 41,
     "metadata": {},
     "output_type": "execute_result"
    }
   ],
   "source": [
    "###### EXECUTANDO VALIDACAO CRUZADA E IMPRIMINDO NO TERMINAL O VALOR DA METRICA LOG_LOSS ######"
   ]
  },
  {
   "cell_type": "code",
   "execution_count": 39,
   "metadata": {
    "collapsed": false
   },
   "outputs": [
    {
     "data": {
      "text/plain": [
       "AnimalID\n",
       "A671945    Return_to_owner\n",
       "A656520         Euthanasia\n",
       "A686464           Adoption\n",
       "A683430           Transfer\n",
       "A667013           Transfer\n",
       "Name: OutcomeType, dtype: object"
      ]
     },
     "execution_count": 39,
     "metadata": {},
     "output_type": "execute_result"
    }
   ],
   "source": []
  },
  {
   "cell_type": "code",
   "execution_count": 10,
   "metadata": {
    "collapsed": true
   },
   "outputs": [],
   "source": [
    "###### DESCOMENTE AS LINHAS ABAIXO PARA GERAR UMA PREDICAO PARA O KAGGLE ######\n",
    "proba = fit.predict_proba(test)\n",
    "ret = pd.DataFrame(proba, index=test.index, columns=fit.classes_)\n",
    "ret.sort_index(inplace=True)\n",
    "ret.to_csv('output/submission.csv', index_label=\"ID\")"
   ]
  },
  {
   "cell_type": "code",
   "execution_count": null,
   "metadata": {
    "collapsed": true
   },
   "outputs": [],
   "source": []
  }
 ],
 "metadata": {
  "kernelspec": {
   "display_name": "Python 2",
   "language": "python",
   "name": "python2"
  },
  "language_info": {
   "codemirror_mode": {
    "name": "ipython",
    "version": 2
   },
   "file_extension": ".py",
   "mimetype": "text/x-python",
   "name": "python",
   "nbconvert_exporter": "python",
   "pygments_lexer": "ipython2",
   "version": "2.7.11"
  }
 },
 "nbformat": 4,
 "nbformat_minor": 0
}
