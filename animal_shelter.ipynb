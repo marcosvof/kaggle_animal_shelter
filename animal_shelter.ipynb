{
 "cells": [
  {
   "cell_type": "code",
   "execution_count": 81,
   "metadata": {
    "collapsed": false
   },
   "outputs": [],
   "source": [
    "import pandas as pd\n",
    "import numpy as np\n",
    "from sklearn.metrics import log_loss\n",
    "from sklearn.preprocessing import LabelEncoder\n",
    "from sklearn.cross_validation import train_test_split, cross_val_score\n",
    "from sklearn.neighbors import KNeighborsClassifier\n",
    "from sklearn.svm import SVC\n",
    "from sklearn.tree import DecisionTreeClassifier\n",
    "from sklearn.ensemble import RandomForestClassifier, AdaBoostClassifier, GradientBoostingClassifier\n",
    "from sklearn.naive_bayes import GaussianNB\n",
    "from sklearn.discriminant_analysis import LinearDiscriminantAnalysis, QuadraticDiscriminantAnalysis\n",
    "import xgboost as xgb"
   ]
  },
  {
   "cell_type": "code",
   "execution_count": 82,
   "metadata": {
    "collapsed": true
   },
   "outputs": [],
   "source": [
    "import scipy as sp\n",
    "def logloss(act, pred):\n",
    "    epsilon = 1e-15\n",
    "    pred = sp.maximum(epsilon, pred)\n",
    "    pred = sp.minimum(1-epsilon, pred)\n",
    "    ll = sum(act*sp.log(pred) + sp.subtract(1,act)*sp.log(sp.subtract(1,pred)))\n",
    "    ll = ll * -1.0/len(act)\n",
    "    return ll"
   ]
  },
  {
   "cell_type": "code",
   "execution_count": 83,
   "metadata": {
    "collapsed": false
   },
   "outputs": [],
   "source": [
    "def getAge(x):\n",
    "    if pd.notnull(x):\n",
    "        value = int(x.split(' ')[0])\n",
    "        if x.endswith('day') or x.endswith('days'):\n",
    "            return value\n",
    "        if x.endswith('weeks') or x.endswith('week'):\n",
    "            return value*7\n",
    "        if x.endswith('month') or x.endswith('months'):\n",
    "            return value*30\n",
    "        if x.endswith('year') or x.endswith('years'):\n",
    "            return value*365\n",
    "    return -1\n",
    "\n",
    "def cleanBreed(x):\n",
    "    x = x.replace('Mix','')\n",
    "    x = x.replace('Shorthair','')\n",
    "    x = x.replace('Medium Hair','')\n",
    "    x = x.replace('Longhair','')\n",
    "    x = x.replace('  ',' ')\n",
    "    x = x.replace('   ',' ')\n",
    "    x = x.replace('    ',' ')\n",
    "    x = x.strip()\n",
    "    \n",
    "    return x\n",
    "\n",
    "def cleanColor(x):\n",
    "    x = x.replace('Tabby','')\n",
    "    x = x.replace('  ',' ')\n",
    "    x = x.replace('   ',' ')\n",
    "    x = x.replace('    ',' ')\n",
    "    x = x.strip()\n",
    "    \n",
    "    return x"
   ]
  },
  {
   "cell_type": "code",
   "execution_count": 84,
   "metadata": {
    "collapsed": false
   },
   "outputs": [],
   "source": [
    "def generate_features(data):\n",
    "    ###### RETIRANDO O OUTCOMESUBTYPE O NAME DO TREINO E TESTE ######\n",
    "    data['has_name'] = data['Name'].apply(lambda x :  pd.notnull(x) )\n",
    "    \n",
    "    #Date\n",
    "    data['DateTime'] = data['DateTime'].apply(lambda x : pd.tslib.Timestamp(x, tz=None))\n",
    "    data['day'] = data['DateTime'].apply(lambda x : x.day)\n",
    "    data['month'] = data['DateTime'].apply(lambda x : x.month)\n",
    "    data['year'] = data['DateTime'].apply(lambda x : x.year)\n",
    "    data['hour'] = data['DateTime'].apply(lambda x : x.hour)\n",
    "    data['minute'] = data['DateTime'].apply(lambda x : x.minute)\n",
    "    data['weekday'] = data['DateTime'].apply(lambda x : x.weekday() < 5)\n",
    "    data['working_hour'] = data['DateTime'].apply(lambda x : x.hour >= 8 and x.hour <= 18)\n",
    "    data['madrugada'] = data['DateTime'].apply(lambda x : x.hour < 6)\n",
    "    data['manha'] = data['DateTime'].apply(lambda x : x.hour >= 6 and x.hour < 12)\n",
    "    data['tarde'] = data['DateTime'].apply(lambda x : x.hour >= 12 and x.hour < 18)\n",
    "    data['noite'] = data['DateTime'].apply(lambda x : x.hour >= 18)\n",
    "    \n",
    "    #Age\n",
    "    data['age'] = data['AgeuponOutcome'].apply(lambda x : getAge(x))\n",
    "    data['puppy'] = data['age'].apply(lambda x : x <= 365)\n",
    "    \n",
    "    #Sex\n",
    "    data['male'] = data['SexuponOutcome'].apply(lambda x : pd.notnull(x) and x.endswith('Male'))\n",
    "    data['female'] = data['SexuponOutcome'].apply(lambda x : pd.notnull(x) and x.endswith('Female'))\n",
    "    data['intact'] = data['SexuponOutcome'].apply(lambda x : pd.notnull(x) and x.startswith('Intact'))\n",
    "    data['spayed'] = data['SexuponOutcome'].apply(lambda x : pd.notnull(x) and x.startswith('Spayed'))\n",
    "    data['neutered'] = data['SexuponOutcome'].apply(lambda x : pd.notnull(x) and x.startswith('Neutered'))\n",
    "    \n",
    "    #Breed\n",
    "    data['mix'] = data['Breed'].apply(lambda x : pd.notnull(x) and x.endswith('Mix'))\n",
    "    data['shorthair'] = data['Breed'].apply(lambda x : pd.notnull(x) and 'Shorthair' in x)\n",
    "    data['mediumhair'] = data['Breed'].apply(lambda x : pd.notnull(x) and 'Medium Hair' in x)\n",
    "    data['longhair'] = data['Breed'].apply(lambda x : pd.notnull(x) and 'Longhair' in x)\n",
    "    \n",
    "    data['Breed'] = data['Breed'].apply(lambda x : cleanBreed(x))\n",
    "    \n",
    "    #Color\n",
    "    data['tabby'] = data['Color'].apply(lambda x : pd.notnull(x) and 'Tabby' in x)\n",
    "    data['Color'] = data['Color'].apply(lambda x : cleanColor(x))\n",
    "\n",
    "    data.drop(['Name', 'DateTime','AgeuponOutcome', 'SexuponOutcome'], axis=1, inplace=True)\n",
    "    \n",
    "    ###### TRATAMENTO DOS DADOS CATEGORICOS ######\n",
    "    for col in ['AnimalType', 'Breed', 'Color']:\n",
    "        le = LabelEncoder().fit(np.append(train[col], test[col]))\n",
    "        data[col] = le.transform(data[col])"
   ]
  },
  {
   "cell_type": "code",
   "execution_count": 85,
   "metadata": {
    "collapsed": false
   },
   "outputs": [
    {
     "data": {
      "text/plain": [
       "array(['Neutered Male', 'Spayed Female', 'Intact Male', 'Intact Female',\n",
       "       'Unknown', nan], dtype=object)"
      ]
     },
     "execution_count": 85,
     "metadata": {},
     "output_type": "execute_result"
    }
   ],
   "source": [
    "###### LENDO O TREINO E TESTE ######\n",
    "train = pd.read_csv('input/train.csv', index_col='AnimalID')\n",
    "test = pd.read_csv('input/test.csv', index_col='ID')\n",
    "\n",
    "train.drop('OutcomeSubtype', axis=1, inplace=True)\n",
    "    \n",
    "pd.Series.unique(train['SexuponOutcome'])"
   ]
  },
  {
   "cell_type": "code",
   "execution_count": null,
   "metadata": {
    "collapsed": false
   },
   "outputs": [],
   "source": []
  },
  {
   "cell_type": "code",
   "execution_count": 86,
   "metadata": {
    "collapsed": false
   },
   "outputs": [
    {
     "data": {
      "text/html": [
       "<div>\n",
       "<table border=\"1\" class=\"dataframe\">\n",
       "  <thead>\n",
       "    <tr style=\"text-align: right;\">\n",
       "      <th></th>\n",
       "      <th>Name</th>\n",
       "      <th>DateTime</th>\n",
       "      <th>OutcomeType</th>\n",
       "      <th>AnimalType</th>\n",
       "      <th>SexuponOutcome</th>\n",
       "      <th>AgeuponOutcome</th>\n",
       "      <th>Breed</th>\n",
       "      <th>Color</th>\n",
       "    </tr>\n",
       "    <tr>\n",
       "      <th>AnimalID</th>\n",
       "      <th></th>\n",
       "      <th></th>\n",
       "      <th></th>\n",
       "      <th></th>\n",
       "      <th></th>\n",
       "      <th></th>\n",
       "      <th></th>\n",
       "      <th></th>\n",
       "    </tr>\n",
       "  </thead>\n",
       "  <tbody>\n",
       "    <tr>\n",
       "      <th>A671945</th>\n",
       "      <td>Hambone</td>\n",
       "      <td>2014-02-12 18:22:00</td>\n",
       "      <td>Return_to_owner</td>\n",
       "      <td>Dog</td>\n",
       "      <td>Neutered Male</td>\n",
       "      <td>1 year</td>\n",
       "      <td>Shetland Sheepdog Mix</td>\n",
       "      <td>Brown/White</td>\n",
       "    </tr>\n",
       "    <tr>\n",
       "      <th>A656520</th>\n",
       "      <td>Emily</td>\n",
       "      <td>2013-10-13 12:44:00</td>\n",
       "      <td>Euthanasia</td>\n",
       "      <td>Cat</td>\n",
       "      <td>Spayed Female</td>\n",
       "      <td>1 year</td>\n",
       "      <td>Domestic Shorthair Mix</td>\n",
       "      <td>Cream Tabby</td>\n",
       "    </tr>\n",
       "    <tr>\n",
       "      <th>A686464</th>\n",
       "      <td>Pearce</td>\n",
       "      <td>2015-01-31 12:28:00</td>\n",
       "      <td>Adoption</td>\n",
       "      <td>Dog</td>\n",
       "      <td>Neutered Male</td>\n",
       "      <td>2 years</td>\n",
       "      <td>Pit Bull Mix</td>\n",
       "      <td>Blue/White</td>\n",
       "    </tr>\n",
       "    <tr>\n",
       "      <th>A683430</th>\n",
       "      <td>NaN</td>\n",
       "      <td>2014-07-11 19:09:00</td>\n",
       "      <td>Transfer</td>\n",
       "      <td>Cat</td>\n",
       "      <td>Intact Male</td>\n",
       "      <td>3 weeks</td>\n",
       "      <td>Domestic Shorthair Mix</td>\n",
       "      <td>Blue Cream</td>\n",
       "    </tr>\n",
       "    <tr>\n",
       "      <th>A667013</th>\n",
       "      <td>NaN</td>\n",
       "      <td>2013-11-15 12:52:00</td>\n",
       "      <td>Transfer</td>\n",
       "      <td>Dog</td>\n",
       "      <td>Neutered Male</td>\n",
       "      <td>2 years</td>\n",
       "      <td>Lhasa Apso/Miniature Poodle</td>\n",
       "      <td>Tan</td>\n",
       "    </tr>\n",
       "  </tbody>\n",
       "</table>\n",
       "</div>"
      ],
      "text/plain": [
       "             Name             DateTime      OutcomeType AnimalType  \\\n",
       "AnimalID                                                             \n",
       "A671945   Hambone  2014-02-12 18:22:00  Return_to_owner        Dog   \n",
       "A656520     Emily  2013-10-13 12:44:00       Euthanasia        Cat   \n",
       "A686464    Pearce  2015-01-31 12:28:00         Adoption        Dog   \n",
       "A683430       NaN  2014-07-11 19:09:00         Transfer        Cat   \n",
       "A667013       NaN  2013-11-15 12:52:00         Transfer        Dog   \n",
       "\n",
       "         SexuponOutcome AgeuponOutcome                        Breed  \\\n",
       "AnimalID                                                              \n",
       "A671945   Neutered Male         1 year        Shetland Sheepdog Mix   \n",
       "A656520   Spayed Female         1 year       Domestic Shorthair Mix   \n",
       "A686464   Neutered Male        2 years                 Pit Bull Mix   \n",
       "A683430     Intact Male        3 weeks       Domestic Shorthair Mix   \n",
       "A667013   Neutered Male        2 years  Lhasa Apso/Miniature Poodle   \n",
       "\n",
       "                Color  \n",
       "AnimalID               \n",
       "A671945   Brown/White  \n",
       "A656520   Cream Tabby  \n",
       "A686464    Blue/White  \n",
       "A683430    Blue Cream  \n",
       "A667013           Tan  "
      ]
     },
     "execution_count": 86,
     "metadata": {},
     "output_type": "execute_result"
    }
   ],
   "source": [
    "\n",
    "train.head()"
   ]
  },
  {
   "cell_type": "code",
   "execution_count": 87,
   "metadata": {
    "collapsed": false
   },
   "outputs": [],
   "source": [
    "generate_features(train)\n",
    "generate_features(test)"
   ]
  },
  {
   "cell_type": "code",
   "execution_count": 88,
   "metadata": {
    "collapsed": false
   },
   "outputs": [
    {
     "data": {
      "text/plain": [
       "1220"
      ]
     },
     "execution_count": 88,
     "metadata": {},
     "output_type": "execute_result"
    }
   ],
   "source": [
    "train.head()\n",
    "pd.Series.unique(train['Breed']).size"
   ]
  },
  {
   "cell_type": "code",
   "execution_count": null,
   "metadata": {
    "collapsed": true
   },
   "outputs": [],
   "source": []
  },
  {
   "cell_type": "code",
   "execution_count": 89,
   "metadata": {
    "collapsed": true
   },
   "outputs": [],
   "source": [
    "#print train.head(3)\n",
    "\n",
    "###### SEPARA O TREINO EM DADOS DE TREINO E LISTA DE CLASSES ######\n",
    "data   = train.drop('OutcomeType', axis=1)\n",
    "target = train['OutcomeType']"
   ]
  },
  {
   "cell_type": "code",
   "execution_count": 311,
   "metadata": {
    "collapsed": false
   },
   "outputs": [],
   "source": [
    "###### ESCOLHA O SEU CLASSIFICADOR ######\n",
    "#classifiers = [KNeighborsClassifier(3),KNeighborsClassifier(3),#SVC(probability=True),SVC(gamma=2, C=1),\n",
    "#              GaussianNB(),QuadraticDiscriminantAnalysis(),DecisionTreeClassifier(),RandomForestClassifier(),\n",
    "#             AdaBoostClassifier(),LinearDiscriminantAnalysis(),GradientBoostingClassifier()]\n",
    "\n",
    "#classifiers = [GradientBoostingClassifier()]\n",
    "#clf = KNeighborsClassifier(3)\n",
    "#clf = SVC(probability=True)\n",
    "#clf = SVC(gamma=2, C=1)\n",
    "#clf = GaussianNB()\n",
    "#clf = QuadraticDiscriminantAnalysis()\n",
    "#clf = DecisionTreeClassifier()\n",
    "#clf = RandomForestClassifier()\n",
    "#clf = AdaBoostClassifier()\n",
    "#clf = LinearDiscriminantAnalysis()\n",
    "clf = GradientBoostingClassifier()"
   ]
  },
  {
   "cell_type": "code",
   "execution_count": 312,
   "metadata": {
    "collapsed": false
   },
   "outputs": [
    {
     "name": "stdout",
     "output_type": "stream",
     "text": [
      "LogLoss:\n",
      "[-8.9929701  -8.69860016 -8.79507247]\n",
      "LogLoss:\n",
      "[-8.9929701  -8.69860016 -8.79507247]\n",
      "LogLoss:\n",
      "[-2.15186923 -2.23321457 -2.17262553]\n"
     ]
    },
    {
     "name": "stderr",
     "output_type": "stream",
     "text": [
      "/Users/marcos/anaconda/envs/dato-env/lib/python2.7/site-packages/sklearn/discriminant_analysis.py:688: UserWarning: Variables are collinear\n",
      "  warnings.warn(\"Variables are collinear\")\n"
     ]
    },
    {
     "name": "stdout",
     "output_type": "stream",
     "text": [
      "LogLoss:\n",
      "[-9.65249037 -9.50242782 -9.82973787]\n",
      "LogLoss:\n",
      "[-14.19608819 -14.07522975 -13.72709874]\n",
      "LogLoss:\n",
      "[-2.36093432 -2.29458281 -2.32137058]\n",
      "LogLoss:\n",
      "[-1.54899188 -1.55057213 -1.54709061]\n",
      "LogLoss:\n"
     ]
    },
    {
     "name": "stderr",
     "output_type": "stream",
     "text": [
      "/Users/marcos/anaconda/envs/dato-env/lib/python2.7/site-packages/sklearn/discriminant_analysis.py:387: UserWarning: Variables are collinear.\n",
      "  warnings.warn(\"Variables are collinear.\")\n"
     ]
    },
    {
     "name": "stdout",
     "output_type": "stream",
     "text": [
      "[-0.89779906 -0.88673281 -0.8776896 ]\n",
      "LogLoss:\n",
      "[-0.78034615 -0.77351597 -0.76792184]\n"
     ]
    }
   ],
   "source": [
    "###### TREINANDO O CLASSIFICADOR ######\n",
    "for clf in classifiers:\n",
    "    fit = clf.fit(data, target)\n",
    "    print \"LogLoss:\"\n",
    "    print cross_val_score(clf, data, target, cv=3, scoring='log_loss', verbose=0)"
   ]
  },
  {
   "cell_type": "markdown",
   "metadata": {},
   "source": [
    "LogLoss:\n",
    "[-0.77963995 -0.77292823 -0.76704907]"
   ]
  },
  {
   "cell_type": "code",
   "execution_count": null,
   "metadata": {
    "collapsed": true
   },
   "outputs": [],
   "source": []
  },
  {
   "cell_type": "code",
   "execution_count": 313,
   "metadata": {
    "collapsed": false
   },
   "outputs": [],
   "source": [
    "###### DESCOMENTE AS LINHAS ABAIXO PARA GERAR UMA PREDICAO PARA O KAGGLE ######\n",
    "proba = fit.predict_proba(test)\n",
    "ret = pd.DataFrame(proba, index=test.index, columns=fit.classes_)\n",
    "ret.sort_index(inplace=True)\n",
    "ret.to_csv('output/submission.csv', index_label=\"ID\")"
   ]
  },
  {
   "cell_type": "code",
   "execution_count": 90,
   "metadata": {
    "collapsed": false
   },
   "outputs": [
    {
     "name": "stdout",
     "output_type": "stream",
     "text": [
      "LogLoss:\n",
      "[-0.76862646 -0.76030176 -0.75771909]\n"
     ]
    }
   ],
   "source": [
    "gbm = xgb.XGBClassifier(max_depth=4, n_estimators=300, learning_rate=0.05).fit(data, target,eval_metric='logloss')\n",
    "#fit = gbm.fit(data, target)\n",
    "print \"LogLoss:\"\n",
    "print cross_val_score(gbm, data, target, cv=3, scoring='log_loss', verbose=0)"
   ]
  },
  {
   "cell_type": "code",
   "execution_count": 91,
   "metadata": {
    "collapsed": false
   },
   "outputs": [],
   "source": [
    "ret = pd.DataFrame(predictions, index=test.index, columns=gbm.classes_)\n",
    "ret.sort_index(inplace=True)\n",
    "ret.to_csv('output/submission.csv', index_label=\"ID\")"
   ]
  },
  {
   "cell_type": "code",
   "execution_count": 15,
   "metadata": {
    "collapsed": false
   },
   "outputs": [
    {
     "name": "stdout",
     "output_type": "stream",
     "text": [
      "[[ 0.04017166  0.00329722  0.0689159   0.37033021  0.51728505]\n",
      " [ 0.75636011  0.00110187  0.01420486  0.17825007  0.05008303]\n",
      " [ 0.39472622  0.00170643  0.02629204  0.34987342  0.22740184]\n",
      " ..., \n",
      " [ 0.00483217  0.003995    0.04735428  0.00217178  0.94164681]\n",
      " [ 0.51488054  0.00117382  0.0360693   0.40046349  0.04741289]\n",
      " [ 0.07213571  0.00438254  0.18296948  0.65546978  0.08504251]]\n"
     ]
    }
   ],
   "source": []
  },
  {
   "cell_type": "code",
   "execution_count": null,
   "metadata": {
    "collapsed": true
   },
   "outputs": [],
   "source": []
  }
 ],
 "metadata": {
  "kernelspec": {
   "display_name": "Python 2",
   "language": "python",
   "name": "python2"
  },
  "language_info": {
   "codemirror_mode": {
    "name": "ipython",
    "version": 2
   },
   "file_extension": ".py",
   "mimetype": "text/x-python",
   "name": "python",
   "nbconvert_exporter": "python",
   "pygments_lexer": "ipython2",
   "version": "2.7.12"
  }
 },
 "nbformat": 4,
 "nbformat_minor": 0
}
